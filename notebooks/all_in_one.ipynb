{
 "cells": [
  {
   "cell_type": "code",
   "execution_count": 1,
   "id": "f1ae2418",
   "metadata": {
    "_cell_guid": "5490d96d-3065-45b1-8828-84126dccc762",
    "_uuid": "249689e0-03cf-4e46-a20f-590ccd37412a",
    "collapsed": false,
    "execution": {
     "iopub.execute_input": "2024-12-01T04:52:26.449201Z",
     "iopub.status.busy": "2024-12-01T04:52:26.448941Z",
     "iopub.status.idle": "2024-12-01T04:52:45.712635Z",
     "shell.execute_reply": "2024-12-01T04:52:45.711843Z"
    },
    "jupyter": {
     "outputs_hidden": false
    },
    "papermill": {
     "duration": 19.271715,
     "end_time": "2024-12-01T04:52:45.714994",
     "exception": false,
     "start_time": "2024-12-01T04:52:26.443279",
     "status": "completed"
    },
    "tags": []
   },
   "outputs": [],
   "source": [
    "# Standard libraries\n",
    "import os\n",
    "from glob import glob\n",
    "import yaml\n",
    "\n",
    "# Numerical computation and image processing\n",
    "import numpy as np\n",
    "import cv2\n",
    "from PIL import Image\n",
    "import matplotlib.pyplot as plt\n",
    "\n",
    "# PyTorch and deep learning\n",
    "import torch\n",
    "import torch.nn as nn\n",
    "import torch.nn.functional as F\n",
    "from torch.utils.data                  import Dataset, DataLoader\n",
    "from torch.utils.tensorboard           import SummaryWriter\n",
    "from torch.optim.lr_scheduler          import ReduceLROnPlateau\n",
    "from torchvision                       import models, transforms, utils\n",
    "from torchvision.models                import VGG16_Weights\n",
    "from torchvision.utils                 import save_image, make_grid\n",
    "from torchvision.transforms.functional import to_pil_image\n",
    "\n",
    "# Evaluation metrics\n",
    "from skimage.metrics import peak_signal_noise_ratio, structural_similarity\n",
    "\n",
    "# Utilities\n",
    "from tqdm import tqdm\n",
    "\n",
    "# Set multiprocessing method\n",
    "import torch.multiprocessing as mp\n",
    "mp.set_start_method('spawn', force=True)\n",
    "\n",
    "# Run Python script\n",
    "import sys\n",
    "sys.path.append('/kaggle/input/python-files')\n",
    "\n",
    "from InitDataset import InitDataset\n",
    "from MaskGenerator import MaskGenerator"
   ]
  },
  {
   "cell_type": "markdown",
   "id": "ceabd672",
   "metadata": {
    "papermill": {
     "duration": 0.004124,
     "end_time": "2024-12-01T04:52:45.723744",
     "exception": false,
     "start_time": "2024-12-01T04:52:45.719620",
     "status": "completed"
    },
    "tags": []
   },
   "source": [
    "# **I - Generate Dataset**\n",
    "---"
   ]
  },
  {
   "cell_type": "code",
   "execution_count": null,
   "id": "7b649124",
   "metadata": {
    "_cell_guid": "c67dcf23-0b53-468a-8f7a-974ed5e26693",
    "_uuid": "799ced6d-692a-4eae-9c8c-d793b1e22aed",
    "execution": {
     "iopub.execute_input": "2024-12-01T04:52:45.734068Z",
     "iopub.status.busy": "2024-12-01T04:52:45.733479Z",
     "iopub.status.idle": "2024-12-01T04:52:45.738145Z",
     "shell.execute_reply": "2024-12-01T04:52:45.737363Z"
    },
    "papermill": {
     "duration": 0.011497,
     "end_time": "2024-12-01T04:52:45.739644",
     "exception": false,
     "start_time": "2024-12-01T04:52:45.728147",
     "status": "completed"
    },
    "tags": []
   },
   "outputs": [],
   "source": [
    "# class MaskGenerator(object):\n",
    "#     def __init__(self, height, width, channels=3, num_irregulars=10):\n",
    "#         self.height         = height\n",
    "#         self.width          = width\n",
    "#         self.channels       = channels\n",
    "#         self.num_irregulars = np.random.randint(1, num_irregulars + 1)\n",
    "\n",
    "#     def generate(self):\n",
    "#         mask = np.zeros((self.height, self.width, self.channels), np.uint8)\n",
    "#         size = int((self.width + self.height) * 0.03)\n",
    "\n",
    "#         for _ in range(self.num_irregulars):\n",
    "#             x1, x2    = np.random.randint(1, self.width , size=2)\n",
    "#             y1, y2    = np.random.randint(1, self.height, size=2)\n",
    "#             thickness = np.random.randint(3, size)\n",
    "#             cv2.line(mask, (x1, y1), (x2, y2), (1, 1, 1), thickness)\n",
    "\n",
    "#         for _ in range(self.num_irregulars):\n",
    "#             x1, y1 = np.random.randint(1, self.width), np.random.randint(1, self.height)\n",
    "#             radius = np.random.randint(3, size)\n",
    "#             cv2.circle(mask, (x1, y1), radius, (1, 1, 1), -1)\n",
    "\n",
    "#         for _ in range(self.num_irregulars):\n",
    "#             x1, y1      = np.random.randint(1, self.width)     , np.random.randint(1, self.height)\n",
    "#             s1, s2      = np.random.randint(1, self.width // 4), np.random.randint(1, self.height // 4)\n",
    "#             angle       = np.random.randint(0, 180)\n",
    "#             start_angle = np.random.randint(0, 180)\n",
    "#             end_angle   = np.random.randint(start_angle, 180)\n",
    "#             thickness   = np.random.randint(3, size)\n",
    "#             cv2.ellipse(mask, (x1, y1), (s1, s2), angle, start_angle, end_angle, (1, 1, 1), thickness)\n",
    "\n",
    "#         # Require: 0 = area to restore, 1 = area not affected\n",
    "#         return 1 - mask\n",
    "\n",
    "# # Testing\n",
    "# maskGenerator = MaskGenerator(512, 512)\n",
    "# _, axes = plt.subplots(2, 5, figsize=(20, 8))\n",
    "# for ax in axes.ravel():\n",
    "#     mask = maskGenerator.generate() * 255\n",
    "#     ax.imshow(mask)\n",
    "#     ax.set_xticks([])\n",
    "#     ax.set_yticks([])"
   ]
  },
  {
   "cell_type": "code",
   "execution_count": null,
   "id": "0c912643",
   "metadata": {
    "_cell_guid": "45d1aa69-fb98-4fff-a830-98a522328224",
    "_uuid": "2407e867-0e54-4e50-b58a-dd62decc6b0b",
    "execution": {
     "iopub.execute_input": "2024-12-01T04:52:45.750272Z",
     "iopub.status.busy": "2024-12-01T04:52:45.749994Z",
     "iopub.status.idle": "2024-12-01T04:52:45.753962Z",
     "shell.execute_reply": "2024-12-01T04:52:45.753246Z"
    },
    "papermill": {
     "duration": 0.010393,
     "end_time": "2024-12-01T04:52:45.755552",
     "exception": false,
     "start_time": "2024-12-01T04:52:45.745159",
     "status": "completed"
    },
    "tags": []
   },
   "outputs": [],
   "source": [
    "# class InitDataset(Dataset):\n",
    "#     def __init__(self, data_root, img_transform, mask_transform, data='train', maskGenerator=None):\n",
    "#         super().__init__()\n",
    "#         self.img_transform  = img_transform\n",
    "#         self.mask_transform = mask_transform\n",
    "#         self.maskGenerator  = maskGenerator \n",
    "#         self.paths          = glob(f'{data_root}/COCO2017/{data}2017/*')\n",
    "        \n",
    "#     def __len__(self):\n",
    "#         return len(self.paths)\n",
    "\n",
    "#     def __getitem__(self, index):\n",
    "#         img = self.load_img(self.paths[index])\n",
    "#         img = self.img_transform(img.convert('RGB'))\n",
    "        \n",
    "#         mask = self.maskGenerator.generate() * 255\n",
    "#         mask = Image.fromarray(mask.astype(np.uint8))\n",
    "#         mask = self.mask_transform(mask.convert('RGB'))\n",
    "\n",
    "#         return img * mask, mask, img\n",
    "\n",
    "#     def load_img(self, path):\n",
    "#         try:\n",
    "#             img = Image.open(path)\n",
    "#             return img\n",
    "#         except (FileNotFoundError, UnidentifiedImageError):\n",
    "#             raise FileNotFoundError(f\"x Can't load image from: {path}\")\n",
    "\n",
    "# Testing\n",
    "# dataset_train = InitDataset(\n",
    "#     '/kaggle/input/coco2017-dataset', \n",
    "#     transforms.Compose([transforms.Resize((256, 256)), transforms.ToTensor()]), \n",
    "#     transforms.Compose([transforms.Resize((256, 256)), transforms.ToTensor()]), \n",
    "#     data='train',\n",
    "#     maskGenerator = MaskGenerator(256, 256, channels=3)\n",
    "# )\n",
    "# _, axes = plt.subplots(1, 3, figsize=(20, 4))\n",
    "# for ax, ele in zip(axes, dataset_train[0]):\n",
    "#     ax.imshow(to_pil_image(ele))\n",
    "#     ax.set_xticks([])\n",
    "#     ax.set_yticks([])"
   ]
  },
  {
   "cell_type": "markdown",
   "id": "21cd3358",
   "metadata": {
    "papermill": {
     "duration": 0.004411,
     "end_time": "2024-12-01T04:52:45.764257",
     "exception": false,
     "start_time": "2024-12-01T04:52:45.759846",
     "status": "completed"
    },
    "tags": []
   },
   "source": [
    "# **II - Define the Model**\n",
    "---"
   ]
  },
  {
   "cell_type": "code",
   "execution_count": 4,
   "id": "b2a2fb1c",
   "metadata": {
    "_cell_guid": "eedf590f-15c6-45ad-bf4d-bbf08609a4fd",
    "_uuid": "63fe470c-20ba-463d-ae0d-8ffde9c80b02",
    "execution": {
     "iopub.execute_input": "2024-12-01T04:52:45.774269Z",
     "iopub.status.busy": "2024-12-01T04:52:45.773677Z",
     "iopub.status.idle": "2024-12-01T04:52:45.786194Z",
     "shell.execute_reply": "2024-12-01T04:52:45.785429Z"
    },
    "papermill": {
     "duration": 0.019037,
     "end_time": "2024-12-01T04:52:45.787754",
     "exception": false,
     "start_time": "2024-12-01T04:52:45.768717",
     "status": "completed"
    },
    "tags": []
   },
   "outputs": [],
   "source": [
    "class PartialConvolution(nn.Conv2d):\n",
    "    def __init__(self, in_channels, out_channels, kernel_size, stride=1, padding=0, dilation=1, groups=1, bias=True, padding_mode='zeros'):\n",
    "        super().__init__(in_channels, out_channels, kernel_size, \n",
    "                         stride=stride, padding=padding, dilation=dilation, groups=groups, bias=bias, padding_mode=padding_mode)\n",
    "        \n",
    "        # Kernel for updating mask\n",
    "        self.mask_kernel = torch.ones(self.out_channels, self.in_channels, self.kernel_size[0], self.kernel_size[1])\n",
    "        self.register_buffer('mask_kernel_buffer', self.mask_kernel) \n",
    "\n",
    "        # For renormalization\n",
    "        self.sum1 = self.mask_kernel.shape[1] * self.mask_kernel.shape[2] * self.mask_kernel.shape[3]\n",
    "        \n",
    "        # Initialize weights for image convolution\n",
    "        torch.nn.init.xavier_uniform_(self.weight)\n",
    "\n",
    "    def forward(self, img, mask):\n",
    "        mask_kernel = self.mask_kernel_buffer\n",
    "\n",
    "        # Calculate update mask\n",
    "        update_mask = F.conv2d(mask, mask_kernel, bias=None, stride=self.stride, padding=self.padding, dilation=self.dilation, groups=1)\n",
    "        mask_ratio  = self.sum1 / (update_mask + 1e-8)\n",
    "        update_mask = torch.clamp(update_mask, 0, 1)\n",
    "        mask_ratio  = mask_ratio * update_mask\n",
    "\n",
    "        # Apply partial convolution\n",
    "        conved = F.conv2d(img * mask, self.weight, self.bias, self.stride, self.padding, self.dilation, self.groups)\n",
    "\n",
    "        # Apply mask ratio normalization\n",
    "        if self.bias is not None:\n",
    "            bias_view = self.bias.view(1, self.out_channels, 1, 1)\n",
    "            output    = mask_ratio * (conved - bias_view) + bias_view\n",
    "        else:\n",
    "            output = conved * mask_ratio\n",
    "\n",
    "        return output, update_mask\n",
    "\n",
    "class UpsampleData(nn.Module):\n",
    "    def __init__(self):\n",
    "        super().__init__()\n",
    "        self.upsample = nn.Upsample(scale_factor=2, mode='nearest')\n",
    "\n",
    "    def forward(self, dec_feature, enc_feature, dec_mask, enc_mask):\n",
    "        out      = torch.cat([self.upsample(dec_feature), enc_feature], dim=1)\n",
    "        out_mask = torch.cat([self.upsample(dec_mask)   , enc_mask]   , dim=1)\n",
    "        return out, out_mask\n",
    "\n",
    "class PConvLayer(nn.Module):\n",
    "    def __init__(self, in_ch, out_ch, sample='none-3', dec=False, bn=True, active='relu', conv_bias=False):\n",
    "        super().__init__()\n",
    "        \n",
    "        kernel_map = {'down-7': (7, 2, 3), 'down-5': (5, 2, 2), 'down-3': (3, 2, 1)}\n",
    "        kernel_size, stride, padding = kernel_map.get(sample, (3, 1, 1))\n",
    "        \n",
    "        self.conv = PartialConvolution(in_ch, out_ch, kernel_size, stride, padding, bias=conv_bias)\n",
    "        if dec:\n",
    "            self.upcat = UpsampleData()\n",
    "        if bn:\n",
    "            self.bn = nn.BatchNorm2d(out_ch)\n",
    "        if active == 'relu':\n",
    "            self.activation = nn.ReLU()\n",
    "        elif active == 'leaky':\n",
    "            self.activation = nn.LeakyReLU(negative_slope=0.2)\n",
    "\n",
    "    def forward(self, img, mask, enc_img=None, enc_mask=None):\n",
    "        if hasattr(self, 'upcat'):\n",
    "            out, update_mask = self.upcat(img, enc_img, mask, enc_mask)\n",
    "            out, update_mask = self.conv(out, update_mask)\n",
    "        else:\n",
    "            out, update_mask = self.conv(img, mask)\n",
    "            \n",
    "        if hasattr(self, 'bn'):\n",
    "            out = self.bn(out)\n",
    "        if hasattr(self, 'activation'):\n",
    "            out = self.activation(out)\n",
    "            \n",
    "        return out, update_mask"
   ]
  },
  {
   "cell_type": "code",
   "execution_count": null,
   "id": "3746722a",
   "metadata": {
    "_cell_guid": "eedf590f-15c6-45ad-bf4d-bbf08609a4fd",
    "_uuid": "63fe470c-20ba-463d-ae0d-8ffde9c80b02",
    "execution": {
     "iopub.execute_input": "2024-12-01T04:52:45.796786Z",
     "iopub.status.busy": "2024-12-01T04:52:45.796544Z",
     "iopub.status.idle": "2024-12-01T04:52:45.805748Z",
     "shell.execute_reply": "2024-12-01T04:52:45.805101Z"
    },
    "papermill": {
     "duration": 0.015502,
     "end_time": "2024-12-01T04:52:45.807306",
     "exception": false,
     "start_time": "2024-12-01T04:52:45.791804",
     "status": "completed"
    },
    "tags": []
   },
   "outputs": [],
   "source": [
    "class PConvUNet(nn.Module):\n",
    "    def __init__(self, finetune=False, in_ch=3, layer_size=6):\n",
    "        super().__init__()\n",
    "        self.freeze_enc_bn = True if finetune else False\n",
    "        self.layer_size    = layer_size\n",
    "\n",
    "        self.enc_1 = PConvLayer(in_ch, 64, 'down-7', bn=False)\n",
    "        self.enc_2 = PConvLayer(64,   128, 'down-5')\n",
    "        self.enc_3 = PConvLayer(128,  256, 'down-5')\n",
    "        self.enc_4 = PConvLayer(256,  512, 'down-3')\n",
    "        self.enc_5 = PConvLayer(512,  512, 'down-3')\n",
    "        self.enc_6 = PConvLayer(512,  512, 'down-3')\n",
    "        self.enc_7 = PConvLayer(512,  512, 'down-3')\n",
    "        self.enc_8 = PConvLayer(512,  512, 'down-3')\n",
    "\n",
    "        self.dec_8 = PConvLayer(512 + 512, 512, dec=True, active='leaky')\n",
    "        self.dec_7 = PConvLayer(512 + 512, 512, dec=True, active='leaky')\n",
    "        self.dec_6 = PConvLayer(512 + 512, 512, dec=True, active='leaky')\n",
    "        self.dec_5 = PConvLayer(512 + 512, 512, dec=True, active='leaky')\n",
    "        self.dec_4 = PConvLayer(512 + 256, 256, dec=True, active='leaky')\n",
    "        self.dec_3 = PConvLayer(256 + 128, 128, dec=True, active='leaky')\n",
    "        self.dec_2 = PConvLayer(128 + 64,   64, dec=True, active='leaky')\n",
    "        self.dec_1 = PConvLayer(64  + 3,     3, dec=True, bn=False, active=None, conv_bias=True)\n",
    "\n",
    "    def forward(self, img, mask):\n",
    "        enc_f, enc_m = [img], [mask]\n",
    "        \n",
    "        for layer_num in range(1, self.layer_size + 1):\n",
    "            if layer_num == 1:\n",
    "                feature, update_mask = getattr(self, f'enc_{layer_num}')(img, mask)\n",
    "            else:\n",
    "                enc_f.append(feature)\n",
    "                enc_m.append(update_mask)\n",
    "                feature, update_mask = getattr(self, f'enc_{layer_num}')(feature, update_mask)\n",
    "\n",
    "        assert len(enc_f) == self.layer_size\n",
    "\n",
    "        for layer_num in reversed(range(1, self.layer_size + 1)):\n",
    "            feature, update_mask = getattr(self, f'dec_{layer_num}')(feature, update_mask, enc_f.pop(), enc_m.pop())\n",
    "\n",
    "        return feature, mask\n",
    "\n",
    "    def train(self, mode=True):\n",
    "        super().train(mode)\n",
    "        if self.freeze_enc_bn:\n",
    "            for name, module in self.named_modules():\n",
    "                if isinstance(module, nn.BatchNorm2d) and 'enc' in name:\n",
    "                    module.eval()\n",
    "\n",
    "# # Testing\n",
    "# device = torch.device('cuda' if torch.cuda.is_available() else 'cpu')\n",
    "# model  = PConvUNet(in_ch=3, layer_size=6).to(device)\n",
    "# input_image = torch.rand(4, 3, 256, 256).to(device)\n",
    "# input_mask  = torch.zeros_like(input_image).to(device)\n",
    "# input_mask[:, :, 64:192, 64:192] = 1\n",
    "# model.eval()\n",
    "# with torch.no_grad():\n",
    "#     output_image, output_mask = model(input_image, input_mask)\n",
    "# print(shapes[0]) if all(s == shapes[0] for s in shapes) else print(shapes)"
   ]
  },
  {
   "cell_type": "markdown",
   "id": "b13f7cd9",
   "metadata": {
    "papermill": {
     "duration": 0.003776,
     "end_time": "2024-12-01T04:52:45.815052",
     "exception": false,
     "start_time": "2024-12-01T04:52:45.811276",
     "status": "completed"
    },
    "tags": []
   },
   "source": [
    "# **III - Define the Loss Function**\n",
    "---"
   ]
  },
  {
   "cell_type": "code",
   "execution_count": 6,
   "id": "e6b5f97c",
   "metadata": {
    "_cell_guid": "09c025ce-634f-4624-ab6c-b7a4ed5a9d98",
    "_uuid": "3f6f7736-f475-4daa-8e4d-ae4c1d8069d6",
    "collapsed": false,
    "execution": {
     "iopub.execute_input": "2024-12-01T04:52:45.823965Z",
     "iopub.status.busy": "2024-12-01T04:52:45.823539Z",
     "iopub.status.idle": "2024-12-01T04:52:45.829953Z",
     "shell.execute_reply": "2024-12-01T04:52:45.829281Z"
    },
    "jupyter": {
     "outputs_hidden": false
    },
    "papermill": {
     "duration": 0.012506,
     "end_time": "2024-12-01T04:52:45.831442",
     "exception": false,
     "start_time": "2024-12-01T04:52:45.818936",
     "status": "completed"
    },
    "tags": []
   },
   "outputs": [],
   "source": [
    "class InpaintingLoss(nn.Module):\n",
    "    def __init__(self, extractor, tv_loss='mean'):\n",
    "        super().__init__()\n",
    "        self.tv_loss   = tv_loss\n",
    "        self.l1        = nn.L1Loss()\n",
    "        self.extractor = extractor\n",
    " \n",
    "    def forward(self, input, mask, output, gt):\n",
    "        comp = mask * input + (1 - mask) * output\n",
    "\n",
    "        tv_loss    = total_variation_loss(comp, mask, self.tv_loss)\n",
    "        hole_loss  = self.l1((1 - mask) * output, (1 - mask) * gt)\n",
    "        valid_loss = self.l1(mask * output, mask * gt)\n",
    "\n",
    "        feats_out  = self.extractor(output)\n",
    "        feats_comp = self.extractor(comp)\n",
    "        feats_gt   = self.extractor(gt)\n",
    "        perc_loss  = 0.0\n",
    "        style_loss = 0.0\n",
    "\n",
    "        for i in range(3):\n",
    "            perc_loss  += self.l1(feats_out[i], feats_gt[i])\n",
    "            perc_loss  += self.l1(feats_comp[i], feats_gt[i])\n",
    "            style_loss += self.l1(gram_matrix(feats_out[i]) , gram_matrix(feats_gt[i]))\n",
    "            style_loss += self.l1(gram_matrix(feats_comp[i]), gram_matrix(feats_gt[i]))\n",
    "\n",
    "        return {'valid': valid_loss, 'hole': hole_loss, 'perc': perc_loss, 'style': style_loss, 'tv': tv_loss}"
   ]
  },
  {
   "cell_type": "code",
   "execution_count": 7,
   "id": "9617b5ad",
   "metadata": {
    "_cell_guid": "09c025ce-634f-4624-ab6c-b7a4ed5a9d98",
    "_uuid": "3f6f7736-f475-4daa-8e4d-ae4c1d8069d6",
    "collapsed": false,
    "execution": {
     "iopub.execute_input": "2024-12-01T04:52:45.840365Z",
     "iopub.status.busy": "2024-12-01T04:52:45.840113Z",
     "iopub.status.idle": "2024-12-01T04:52:45.847631Z",
     "shell.execute_reply": "2024-12-01T04:52:45.846818Z"
    },
    "jupyter": {
     "outputs_hidden": false
    },
    "papermill": {
     "duration": 0.013733,
     "end_time": "2024-12-01T04:52:45.849122",
     "exception": false,
     "start_time": "2024-12-01T04:52:45.835389",
     "status": "completed"
    },
    "tags": []
   },
   "outputs": [],
   "source": [
    "class VGG16FeatureExtractor(nn.Module):\n",
    "    MEAN = [0.485, 0.456, 0.406]\n",
    "    STD  = [0.229, 0.224, 0.225]\n",
    "\n",
    "    def __init__(self):\n",
    "        super().__init__()\n",
    "        vgg16         = models.vgg16(weights=VGG16_Weights.IMAGENET1K_V1)\n",
    "        normalization = Normalization(self.MEAN, self.STD)\n",
    "        \n",
    "        # Feature extractor layers\n",
    "        self.enc_1 = nn.Sequential(normalization, *vgg16.features[:5])\n",
    "        self.enc_2 = nn.Sequential(*vgg16.features[5:10])\n",
    "        self.enc_3 = nn.Sequential(*vgg16.features[10:17])\n",
    "\n",
    "        # Freeze all VGG layers\n",
    "        for enc_layer in [self.enc_1, self.enc_2, self.enc_3]:\n",
    "            for param in enc_layer.parameters():\n",
    "                param.requires_grad = False\n",
    "\n",
    "    def forward(self, input):\n",
    "        feature_maps = [input]\n",
    "        for i in range(3):\n",
    "            feature_map = getattr(self, f'enc_{i+1}')(feature_maps[-1])\n",
    "            feature_maps.append(feature_map)\n",
    "        return feature_maps[1:]\n",
    "\n",
    "class Normalization(nn.Module):\n",
    "    def __init__(self, mean, std):\n",
    "        super().__init__()\n",
    "        self.mean = torch.tensor(mean).view(-1, 1, 1)\n",
    "        self.std  = torch.tensor(std).view(-1, 1, 1)\n",
    "\n",
    "    def forward(self, input):\n",
    "        if self.mean.type() != input.type():\n",
    "            self.mean = self.mean.to(input)\n",
    "            self.std  = self.std.to(input)\n",
    "        return (input - self.mean) / self.std"
   ]
  },
  {
   "cell_type": "code",
   "execution_count": 8,
   "id": "8d91c46e",
   "metadata": {
    "_cell_guid": "09c025ce-634f-4624-ab6c-b7a4ed5a9d98",
    "_uuid": "3f6f7736-f475-4daa-8e4d-ae4c1d8069d6",
    "collapsed": false,
    "execution": {
     "iopub.execute_input": "2024-12-01T04:52:45.858249Z",
     "iopub.status.busy": "2024-12-01T04:52:45.857720Z",
     "iopub.status.idle": "2024-12-01T04:52:45.865030Z",
     "shell.execute_reply": "2024-12-01T04:52:45.864383Z"
    },
    "jupyter": {
     "outputs_hidden": false
    },
    "papermill": {
     "duration": 0.013507,
     "end_time": "2024-12-01T04:52:45.866571",
     "exception": false,
     "start_time": "2024-12-01T04:52:45.853064",
     "status": "completed"
    },
    "tags": []
   },
   "outputs": [],
   "source": [
    "def gram_matrix(feat):\n",
    "    (b, ch, h, w) = feat.size()\n",
    "    feat   = feat.view(b, ch, h * w)\n",
    "    feat_t = feat.transpose(1, 2)\n",
    "    gram   = torch.bmm(feat, feat_t) / (ch * h * w)\n",
    "    return gram\n",
    "\n",
    "def dialation_holes(hole_mask):\n",
    "    b, ch, h, w   = hole_mask.shape\n",
    "    dilation_conv = nn.Conv2d(ch, ch, 3, padding=1, bias=False).to(hole_mask)\n",
    "    torch.nn.init.constant_(dilation_conv.weight, 1.0)\n",
    "    \n",
    "    with torch.no_grad():\n",
    "        output_mask = dilation_conv(hole_mask)\n",
    "    updated_holes = output_mask != 0\n",
    "    return updated_holes.float()\n",
    "\n",
    "def total_variation_loss(image, mask, method):\n",
    "    hole_mask       = 1 - mask\n",
    "    dilated_holes   = dialation_holes(hole_mask)\n",
    "    colomns_in_Pset = dilated_holes[:, :, :, 1:] * dilated_holes[:, :, :, :-1]\n",
    "    rows_in_Pset    = dilated_holes[:, :, 1:, :] * dilated_holes[:, :, :-1:, :]\n",
    "    \n",
    "    if method == 'sum':\n",
    "        loss = torch.sum(torch.abs(colomns_in_Pset*(image[:, :, :, 1:] - image[:, :, :, :-1]))) + \\\n",
    "               torch.sum(torch.abs(rows_in_Pset   *(image[:, :, :1, :] - image[:, :, -1:, :])))\n",
    "    else:\n",
    "        loss = torch.mean(torch.abs(colomns_in_Pset*(image[:, :, :, 1:] - image[:, :, :, :-1]))) + \\\n",
    "               torch.mean(torch.abs(rows_in_Pset   *(image[:, :, :1, :] - image[:, :, -1:, :])))\n",
    "    return loss"
   ]
  },
  {
   "cell_type": "markdown",
   "id": "c727bf57",
   "metadata": {
    "papermill": {
     "duration": 0.003809,
     "end_time": "2024-12-01T04:52:45.874262",
     "exception": false,
     "start_time": "2024-12-01T04:52:45.870453",
     "status": "completed"
    },
    "tags": []
   },
   "source": [
    "# **IV - Utility Functions**\n",
    "---"
   ]
  },
  {
   "cell_type": "code",
   "execution_count": 9,
   "id": "e7e7df66",
   "metadata": {
    "_cell_guid": "259dee59-c1a7-4618-8b14-9e151b33f684",
    "_uuid": "73ef0b72-d84e-4a94-9b6a-b193579c1c85",
    "collapsed": false,
    "execution": {
     "iopub.execute_input": "2024-12-01T04:52:45.882949Z",
     "iopub.status.busy": "2024-12-01T04:52:45.882738Z",
     "iopub.status.idle": "2024-12-01T04:52:45.886482Z",
     "shell.execute_reply": "2024-12-01T04:52:45.885813Z"
    },
    "jupyter": {
     "outputs_hidden": false
    },
    "papermill": {
     "duration": 0.009868,
     "end_time": "2024-12-01T04:52:45.888100",
     "exception": false,
     "start_time": "2024-12-01T04:52:45.878232",
     "status": "completed"
    },
    "tags": []
   },
   "outputs": [],
   "source": [
    "class Config(dict):\n",
    "    def __init__(self, conf_file):\n",
    "        with open(conf_file, \"r\") as f:\n",
    "            self._conf = yaml.safe_load(f)\n",
    "\n",
    "    def __getattr__(self, name):\n",
    "        return self._conf.get(name)"
   ]
  },
  {
   "cell_type": "code",
   "execution_count": 10,
   "id": "3621f273",
   "metadata": {
    "_cell_guid": "259dee59-c1a7-4618-8b14-9e151b33f684",
    "_uuid": "73ef0b72-d84e-4a94-9b6a-b193579c1c85",
    "collapsed": false,
    "execution": {
     "iopub.execute_input": "2024-12-01T04:52:45.896797Z",
     "iopub.status.busy": "2024-12-01T04:52:45.896587Z",
     "iopub.status.idle": "2024-12-01T04:52:45.900818Z",
     "shell.execute_reply": "2024-12-01T04:52:45.900204Z"
    },
    "jupyter": {
     "outputs_hidden": false
    },
    "papermill": {
     "duration": 0.010205,
     "end_time": "2024-12-01T04:52:45.902270",
     "exception": false,
     "start_time": "2024-12-01T04:52:45.892065",
     "status": "completed"
    },
    "tags": []
   },
   "outputs": [],
   "source": [
    "def load_ckpt(ckpt_path, models, optimizers=None, for_predict=False):\n",
    "    checkpoint = torch.load(ckpt_path)\n",
    "    model.load_state_dict(checkpoint['model'])\n",
    "\n",
    "    if for_predict:\n",
    "        model.eval()\n",
    "        return model\n",
    "    else:\n",
    "        if optimizer and 'optimizer' in checkpoint:\n",
    "            optimizer.load_state_dict(checkpoint['optimizer'])\n",
    "        return checkpoint.get('step', 0)"
   ]
  },
  {
   "cell_type": "markdown",
   "id": "07546e91",
   "metadata": {
    "papermill": {
     "duration": 0.003751,
     "end_time": "2024-12-01T04:52:45.909947",
     "exception": false,
     "start_time": "2024-12-01T04:52:45.906196",
     "status": "completed"
    },
    "tags": []
   },
   "source": [
    "# **V - Training**\n",
    "---"
   ]
  },
  {
   "cell_type": "code",
   "execution_count": 11,
   "id": "f37c56e5",
   "metadata": {
    "_cell_guid": "56e84fe0-cad2-438d-bbdc-38ac68d4429a",
    "_uuid": "2c607fe3-8461-4209-a9eb-d3318e4a7283",
    "collapsed": false,
    "execution": {
     "iopub.execute_input": "2024-12-01T04:52:45.918912Z",
     "iopub.status.busy": "2024-12-01T04:52:45.918671Z",
     "iopub.status.idle": "2024-12-01T04:52:45.935215Z",
     "shell.execute_reply": "2024-12-01T04:52:45.934570Z"
    },
    "jupyter": {
     "outputs_hidden": false
    },
    "papermill": {
     "duration": 0.022991,
     "end_time": "2024-12-01T04:52:45.936766",
     "exception": false,
     "start_time": "2024-12-01T04:52:45.913775",
     "status": "completed"
    },
    "tags": []
   },
   "outputs": [],
   "source": [
    "class Trainer:\n",
    "    def __init__(self, step, config, device, model, dataset_train, dataset_val, criterion, optimizer):\n",
    "        self.stepped          = step\n",
    "        self.config           = config\n",
    "        self.device           = device\n",
    "        self.model            = model\n",
    "        self.dataloader_train = DataLoader(dataset_train, batch_size=config.batch_size, shuffle=True, num_workers=4, pin_memory=True)\n",
    "        self.dataset_val      = dataset_val\n",
    "        self.criterion        = criterion\n",
    "        self.optimizer        = optimizer\n",
    "        self.writer           = SummaryWriter(log_dir=config.ckpt)\n",
    "        self.best_loss        = float('inf')\n",
    "        #self.scheduler        = ReduceLROnPlateau(optimizer, mode='min', factor=0.5, patience=10)\n",
    "\n",
    "    def iterate(self):\n",
    "        print(\"Training ...\")\n",
    "        torch.autograd.set_detect_anomaly(True)\n",
    "        progress_bar = tqdm(total=self.config.max_iter, desc=\"Progress\", unit=\"step\")\n",
    "\n",
    "        for step, (input, mask, gt) in enumerate(self.dataloader_train):\n",
    "            current_step = step + self.stepped\n",
    "            loss_dict    = self.train(current_step, input, mask, gt)\n",
    "\n",
    "            if current_step % self.config.log_interval == 0:\n",
    "                self.report(current_step, loss_dict)\n",
    "            if current_step % self.config.vis_interval == 0:\n",
    "                self.evaluate(current_step)\n",
    "            if current_step % self.config.save_model_interval == 0:\n",
    "                self.checkpoint(current_step)\n",
    "                \n",
    "            if step >= self.config.max_iter:\n",
    "                print(\"- Max iterations reached. Stop training!\")\n",
    "                break\n",
    "\n",
    "            progress_bar.update(1)\n",
    "\n",
    "        progress_bar.close()\n",
    "\n",
    "    def train(self, step, input, mask, gt):\n",
    "        self.model.train()\n",
    "        \n",
    "        input = input.to(self.device)\n",
    "        mask  = mask.to(self.device)\n",
    "        gt    = gt.to(self.device)\n",
    "\n",
    "        output, _ = self.model(input, mask)\n",
    "        loss_dict = self.criterion(input, mask, output, gt)\n",
    "        loss      = sum(getattr(self.config, f\"{key}_coef\") * val for key, val in loss_dict.items())\n",
    "\n",
    "        self.optimizer.zero_grad()\n",
    "        loss.backward()\n",
    "        self.optimizer.step()\n",
    "\n",
    "        # Update scheduler\n",
    "        # self.scheduler.step(loss.item())\n",
    "        \n",
    "        loss_dict['total'] = loss\n",
    "        return {k: v.item() for k, v in loss_dict.items()}\n",
    "        \n",
    "    def report(self, step, loss_dict):\n",
    "        print(f\"[STEP: {step}] \"\n",
    "              f\"\\t| Valid Loss: {loss_dict['valid']:.6f} \"\n",
    "              f\"\\t| Hole Loss: {loss_dict['hole']:.6f} \" \n",
    "              f\"\\t| Total Loss: {loss_dict['total']:.6f}\")\n",
    "        \n",
    "        for key, val in loss_dict.items():\n",
    "            self.writer.add_scalar(f'Loss/{key}', val, step)\n",
    "        \n",
    "    def evaluate(self, step):\n",
    "        print(f\"- Evaluation at [STEP: {step}] ...\")\n",
    "        \n",
    "        self.model.eval()\n",
    "        samples         = [self.dataset_val[i] for i in range(8)]\n",
    "        image, mask, gt = zip(*samples)\n",
    "\n",
    "        image = torch.stack(image).to(self.device)\n",
    "        mask  = torch.stack(mask).to(self.device)\n",
    "        gt    = torch.stack(gt).to(self.device)\n",
    "\n",
    "        with torch.no_grad():\n",
    "            output, _ = self.model(image, mask)\n",
    "        output_comp = mask * image + (1 - mask) * output\n",
    "\n",
    "        # Tính PSNR và SSIM\n",
    "        psnr_total, ssim_total = 0, 0\n",
    "        for i in range(image.size(0)):\n",
    "            pred_img = output_comp[i].cpu().numpy().transpose(1, 2, 0)\n",
    "            gt_img   = gt[i].cpu().numpy().transpose(1, 2, 0)\n",
    "\n",
    "            psnr_total += peak_signal_noise_ratio(gt_img, pred_img, data_range=1.0)\n",
    "            ssim_total += structural_similarity(gt_img, pred_img, data_range=1.0, multichannel=True, win_size=3)\n",
    "        avg_psnr = psnr_total / image.size(0)\n",
    "        avg_ssim = ssim_total / image.size(0)\n",
    "        print(f\"> Average PSNR: {avg_psnr:.6f}, SSIM: {avg_ssim:.6f}\")\n",
    "    \n",
    "        # Log PSNR và SSIM vào TensorBoard\n",
    "        self.writer.add_scalar('Validation/PSNR', avg_psnr, step)\n",
    "        self.writer.add_scalar('Validation/SSIM', avg_ssim, step)\n",
    "\n",
    "        # Lưu kết quả visualize\n",
    "        grid = make_grid(torch.cat([image.cpu(), mask.cpu(), output.cpu(), output_comp.cpu(), gt.cpu()], dim=0), nrow=8, padding=2)\n",
    "        save_image(grid, f'{self.config.ckpt}/val_vis/{step}.png')\n",
    "\n",
    "        # Tính loss validation\n",
    "        val_loss_dict = self.criterion(image, mask, output, gt)\n",
    "        val_loss      = sum(getattr(self.config, f\"{key}_coef\") * val for key, val in val_loss_dict.items()).item()    \n",
    "        print(f\"> Total Loss: {val_loss:.6f}\")\n",
    "    \n",
    "        if val_loss < self.best_loss:\n",
    "            self.best_loss = val_loss\n",
    "            torch.save({\n",
    "                'step': step,\n",
    "                'model': self.model.state_dict(),\n",
    "                'optimizer': self.optimizer.state_dict(),\n",
    "                'best_loss': self.best_loss,\n",
    "            }, f\"{self.config.ckpt}/models/best_model.pth\")\n",
    "            print(f\"> New best model saved\")\n",
    "\n",
    "    def checkpoint(self, step):\n",
    "        print(f\"- Checkpoint at [STEP: {step}] ...\")\n",
    "\n",
    "        torch.save({\n",
    "            'step'     : step,\n",
    "            'model'    : self.model.state_dict(),\n",
    "            'optimizer': self.optimizer.state_dict()\n",
    "        }, f\"{self.config.ckpt}/models/{step}.pth\")"
   ]
  },
  {
   "cell_type": "code",
   "execution_count": 12,
   "id": "cdf87e3d",
   "metadata": {
    "_cell_guid": "b0875abf-7c31-4c98-871d-dd869d2cab0c",
    "_uuid": "c6701680-67c9-41e8-9b37-e57002ddca90",
    "collapsed": false,
    "execution": {
     "iopub.execute_input": "2024-12-01T04:52:45.945987Z",
     "iopub.status.busy": "2024-12-01T04:52:45.945739Z",
     "iopub.status.idle": "2024-12-01T04:52:45.957810Z",
     "shell.execute_reply": "2024-12-01T04:52:45.956895Z"
    },
    "jupyter": {
     "outputs_hidden": false
    },
    "papermill": {
     "duration": 0.018417,
     "end_time": "2024-12-01T04:52:45.959531",
     "exception": false,
     "start_time": "2024-12-01T04:52:45.941114",
     "status": "completed"
    },
    "tags": []
   },
   "outputs": [
    {
     "name": "stdout",
     "output_type": "stream",
     "text": [
      "Configuring ...\n"
     ]
    }
   ],
   "source": [
    "print(\"Configuring ...\")\n",
    "\n",
    "config      = Config('/kaggle/input/config-files/config (batch 4 - iter 100k vis 2k model 10k log 100).yml')\n",
    "config.ckpt = \"ckpt\"\n",
    "os.makedirs(os.path.join(config.ckpt, \"val_vis\"), exist_ok=True)\n",
    "os.makedirs(os.path.join(config.ckpt, \"models\"), exist_ok=True)"
   ]
  },
  {
   "cell_type": "code",
   "execution_count": 13,
   "id": "82af4b9b",
   "metadata": {
    "_cell_guid": "b0875abf-7c31-4c98-871d-dd869d2cab0c",
    "_uuid": "c6701680-67c9-41e8-9b37-e57002ddca90",
    "execution": {
     "iopub.execute_input": "2024-12-01T04:52:45.969611Z",
     "iopub.status.busy": "2024-12-01T04:52:45.969339Z",
     "iopub.status.idle": "2024-12-01T04:52:46.968332Z",
     "shell.execute_reply": "2024-12-01T04:52:46.967452Z"
    },
    "papermill": {
     "duration": 1.005969,
     "end_time": "2024-12-01T04:52:46.970197",
     "exception": false,
     "start_time": "2024-12-01T04:52:45.964228",
     "status": "completed"
    },
    "tags": []
   },
   "outputs": [
    {
     "name": "stdout",
     "output_type": "stream",
     "text": [
      "Setup device ...\n",
      "Using device: cuda:0\n"
     ]
    },
    {
     "data": {
      "text/plain": [
       "PConvUNet(\n",
       "  (enc_1): PConvLayer(\n",
       "    (conv): PartialConvolution(3, 64, kernel_size=(7, 7), stride=(2, 2), padding=(3, 3), bias=False)\n",
       "    (activation): ReLU()\n",
       "  )\n",
       "  (enc_2): PConvLayer(\n",
       "    (conv): PartialConvolution(64, 128, kernel_size=(5, 5), stride=(2, 2), padding=(2, 2), bias=False)\n",
       "    (bn): BatchNorm2d(128, eps=1e-05, momentum=0.1, affine=True, track_running_stats=True)\n",
       "    (activation): ReLU()\n",
       "  )\n",
       "  (enc_3): PConvLayer(\n",
       "    (conv): PartialConvolution(128, 256, kernel_size=(5, 5), stride=(2, 2), padding=(2, 2), bias=False)\n",
       "    (bn): BatchNorm2d(256, eps=1e-05, momentum=0.1, affine=True, track_running_stats=True)\n",
       "    (activation): ReLU()\n",
       "  )\n",
       "  (enc_4): PConvLayer(\n",
       "    (conv): PartialConvolution(256, 512, kernel_size=(3, 3), stride=(2, 2), padding=(1, 1), bias=False)\n",
       "    (bn): BatchNorm2d(512, eps=1e-05, momentum=0.1, affine=True, track_running_stats=True)\n",
       "    (activation): ReLU()\n",
       "  )\n",
       "  (enc_5): PConvLayer(\n",
       "    (conv): PartialConvolution(512, 512, kernel_size=(3, 3), stride=(2, 2), padding=(1, 1), bias=False)\n",
       "    (bn): BatchNorm2d(512, eps=1e-05, momentum=0.1, affine=True, track_running_stats=True)\n",
       "    (activation): ReLU()\n",
       "  )\n",
       "  (enc_6): PConvLayer(\n",
       "    (conv): PartialConvolution(512, 512, kernel_size=(3, 3), stride=(2, 2), padding=(1, 1), bias=False)\n",
       "    (bn): BatchNorm2d(512, eps=1e-05, momentum=0.1, affine=True, track_running_stats=True)\n",
       "    (activation): ReLU()\n",
       "  )\n",
       "  (enc_7): PConvLayer(\n",
       "    (conv): PartialConvolution(512, 512, kernel_size=(3, 3), stride=(2, 2), padding=(1, 1), bias=False)\n",
       "    (bn): BatchNorm2d(512, eps=1e-05, momentum=0.1, affine=True, track_running_stats=True)\n",
       "    (activation): ReLU()\n",
       "  )\n",
       "  (enc_8): PConvLayer(\n",
       "    (conv): PartialConvolution(512, 512, kernel_size=(3, 3), stride=(2, 2), padding=(1, 1), bias=False)\n",
       "    (bn): BatchNorm2d(512, eps=1e-05, momentum=0.1, affine=True, track_running_stats=True)\n",
       "    (activation): ReLU()\n",
       "  )\n",
       "  (dec_8): PConvLayer(\n",
       "    (conv): PartialConvolution(1024, 512, kernel_size=(3, 3), stride=(1, 1), padding=(1, 1), bias=False)\n",
       "    (upcat): UpsampleData(\n",
       "      (upsample): Upsample(scale_factor=2.0, mode='nearest')\n",
       "    )\n",
       "    (bn): BatchNorm2d(512, eps=1e-05, momentum=0.1, affine=True, track_running_stats=True)\n",
       "    (activation): LeakyReLU(negative_slope=0.2)\n",
       "  )\n",
       "  (dec_7): PConvLayer(\n",
       "    (conv): PartialConvolution(1024, 512, kernel_size=(3, 3), stride=(1, 1), padding=(1, 1), bias=False)\n",
       "    (upcat): UpsampleData(\n",
       "      (upsample): Upsample(scale_factor=2.0, mode='nearest')\n",
       "    )\n",
       "    (bn): BatchNorm2d(512, eps=1e-05, momentum=0.1, affine=True, track_running_stats=True)\n",
       "    (activation): LeakyReLU(negative_slope=0.2)\n",
       "  )\n",
       "  (dec_6): PConvLayer(\n",
       "    (conv): PartialConvolution(1024, 512, kernel_size=(3, 3), stride=(1, 1), padding=(1, 1), bias=False)\n",
       "    (upcat): UpsampleData(\n",
       "      (upsample): Upsample(scale_factor=2.0, mode='nearest')\n",
       "    )\n",
       "    (bn): BatchNorm2d(512, eps=1e-05, momentum=0.1, affine=True, track_running_stats=True)\n",
       "    (activation): LeakyReLU(negative_slope=0.2)\n",
       "  )\n",
       "  (dec_5): PConvLayer(\n",
       "    (conv): PartialConvolution(1024, 512, kernel_size=(3, 3), stride=(1, 1), padding=(1, 1), bias=False)\n",
       "    (upcat): UpsampleData(\n",
       "      (upsample): Upsample(scale_factor=2.0, mode='nearest')\n",
       "    )\n",
       "    (bn): BatchNorm2d(512, eps=1e-05, momentum=0.1, affine=True, track_running_stats=True)\n",
       "    (activation): LeakyReLU(negative_slope=0.2)\n",
       "  )\n",
       "  (dec_4): PConvLayer(\n",
       "    (conv): PartialConvolution(768, 256, kernel_size=(3, 3), stride=(1, 1), padding=(1, 1), bias=False)\n",
       "    (upcat): UpsampleData(\n",
       "      (upsample): Upsample(scale_factor=2.0, mode='nearest')\n",
       "    )\n",
       "    (bn): BatchNorm2d(256, eps=1e-05, momentum=0.1, affine=True, track_running_stats=True)\n",
       "    (activation): LeakyReLU(negative_slope=0.2)\n",
       "  )\n",
       "  (dec_3): PConvLayer(\n",
       "    (conv): PartialConvolution(384, 128, kernel_size=(3, 3), stride=(1, 1), padding=(1, 1), bias=False)\n",
       "    (upcat): UpsampleData(\n",
       "      (upsample): Upsample(scale_factor=2.0, mode='nearest')\n",
       "    )\n",
       "    (bn): BatchNorm2d(128, eps=1e-05, momentum=0.1, affine=True, track_running_stats=True)\n",
       "    (activation): LeakyReLU(negative_slope=0.2)\n",
       "  )\n",
       "  (dec_2): PConvLayer(\n",
       "    (conv): PartialConvolution(192, 64, kernel_size=(3, 3), stride=(1, 1), padding=(1, 1), bias=False)\n",
       "    (upcat): UpsampleData(\n",
       "      (upsample): Upsample(scale_factor=2.0, mode='nearest')\n",
       "    )\n",
       "    (bn): BatchNorm2d(64, eps=1e-05, momentum=0.1, affine=True, track_running_stats=True)\n",
       "    (activation): LeakyReLU(negative_slope=0.2)\n",
       "  )\n",
       "  (dec_1): PConvLayer(\n",
       "    (conv): PartialConvolution(67, 3, kernel_size=(3, 3), stride=(1, 1), padding=(1, 1))\n",
       "    (upcat): UpsampleData(\n",
       "      (upsample): Upsample(scale_factor=2.0, mode='nearest')\n",
       "    )\n",
       "  )\n",
       ")"
      ]
     },
     "execution_count": 13,
     "metadata": {},
     "output_type": "execute_result"
    }
   ],
   "source": [
    "print(\"Setup device ...\")\n",
    "\n",
    "device = torch.device(f\"cuda:{config.cuda_id}\" if torch.cuda.is_available() else \"cpu\")\n",
    "print(f\"Using device: {device}\")\n",
    "\n",
    "model = PConvUNet(finetune=config.finetune, layer_size=config.layer_size)\n",
    "\n",
    "if config.finetune:\n",
    "    model.load_state_dict(torch.load(config.finetune)['model'])\n",
    "    \n",
    "model.to(device)"
   ]
  },
  {
   "cell_type": "code",
   "execution_count": 14,
   "id": "49e82047",
   "metadata": {
    "_cell_guid": "b0875abf-7c31-4c98-871d-dd869d2cab0c",
    "_uuid": "c6701680-67c9-41e8-9b37-e57002ddca90",
    "execution": {
     "iopub.execute_input": "2024-12-01T04:52:46.980296Z",
     "iopub.status.busy": "2024-12-01T04:52:46.979998Z",
     "iopub.status.idle": "2024-12-01T07:09:12.350737Z",
     "shell.execute_reply": "2024-12-01T07:09:12.349833Z"
    },
    "papermill": {
     "duration": 8185.377728,
     "end_time": "2024-12-01T07:09:12.352487",
     "exception": false,
     "start_time": "2024-12-01T04:52:46.974759",
     "status": "completed"
    },
    "tags": []
   },
   "outputs": [
    {
     "name": "stderr",
     "output_type": "stream",
     "text": [
      "Downloading: \"https://download.pytorch.org/models/vgg16-397923af.pth\" to /root/.cache/torch/hub/checkpoints/vgg16-397923af.pth\n",
      "100%|██████████| 528M/528M [00:03<00:00, 142MB/s]\n"
     ]
    },
    {
     "name": "stdout",
     "output_type": "stream",
     "text": [
      "Training ...\n"
     ]
    },
    {
     "name": "stderr",
     "output_type": "stream",
     "text": [
      "Progress:   0%|          | 0/100000 [00:00<?, ?step/s]"
     ]
    },
    {
     "name": "stdout",
     "output_type": "stream",
     "text": [
      "[STEP: 0] \t| Valid Loss: 0.403463 \t| Hole Loss: 0.210676 \t| Total Loss: 834.417297\n",
      "- Evaluation at [STEP: 0] ...\n",
      "> Average PSNR: 12.496291, SSIM: 0.734153\n",
      "> Total Loss: 41.721470\n",
      "> New best model saved\n",
      "- Checkpoint at [STEP: 0] ...\n"
     ]
    },
    {
     "name": "stderr",
     "output_type": "stream",
     "text": [
      "Progress:   0%|          | 101/100000 [00:39<7:00:09,  3.96step/s]"
     ]
    },
    {
     "name": "stdout",
     "output_type": "stream",
     "text": [
      "[STEP: 100] \t| Valid Loss: 0.173333 \t| Hole Loss: 0.077829 \t| Total Loss: 14.159399\n"
     ]
    },
    {
     "name": "stderr",
     "output_type": "stream",
     "text": [
      "Progress:   0%|          | 201/100000 [01:04<7:00:51,  3.95step/s]"
     ]
    },
    {
     "name": "stdout",
     "output_type": "stream",
     "text": [
      "[STEP: 200] \t| Valid Loss: 0.084562 \t| Hole Loss: 0.032905 \t| Total Loss: 10.107531\n"
     ]
    },
    {
     "name": "stderr",
     "output_type": "stream",
     "text": [
      "Progress:   0%|          | 301/100000 [01:30<7:14:13,  3.83step/s]"
     ]
    },
    {
     "name": "stdout",
     "output_type": "stream",
     "text": [
      "[STEP: 300] \t| Valid Loss: 0.059079 \t| Hole Loss: 0.037414 \t| Total Loss: 7.530657\n"
     ]
    },
    {
     "name": "stderr",
     "output_type": "stream",
     "text": [
      "Progress:   0%|          | 401/100000 [01:57<7:25:13,  3.73step/s]"
     ]
    },
    {
     "name": "stdout",
     "output_type": "stream",
     "text": [
      "[STEP: 400] \t| Valid Loss: 0.058242 \t| Hole Loss: 0.031938 \t| Total Loss: 6.661721\n"
     ]
    },
    {
     "name": "stderr",
     "output_type": "stream",
     "text": [
      "Progress:   1%|          | 501/100000 [02:24<7:31:49,  3.67step/s]"
     ]
    },
    {
     "name": "stdout",
     "output_type": "stream",
     "text": [
      "[STEP: 500] \t| Valid Loss: 0.065671 \t| Hole Loss: 0.027452 \t| Total Loss: 7.312910\n"
     ]
    },
    {
     "name": "stderr",
     "output_type": "stream",
     "text": [
      "Progress:   1%|          | 601/100000 [02:51<7:42:24,  3.58step/s]"
     ]
    },
    {
     "name": "stdout",
     "output_type": "stream",
     "text": [
      "[STEP: 600] \t| Valid Loss: 0.068176 \t| Hole Loss: 0.035758 \t| Total Loss: 9.518593\n"
     ]
    },
    {
     "name": "stderr",
     "output_type": "stream",
     "text": [
      "Progress:   1%|          | 701/100000 [03:19<7:43:01,  3.57step/s]"
     ]
    },
    {
     "name": "stdout",
     "output_type": "stream",
     "text": [
      "[STEP: 700] \t| Valid Loss: 0.057292 \t| Hole Loss: 0.031041 \t| Total Loss: 6.829751\n"
     ]
    },
    {
     "name": "stderr",
     "output_type": "stream",
     "text": [
      "Progress:   1%|          | 801/100000 [03:46<7:34:22,  3.64step/s]"
     ]
    },
    {
     "name": "stdout",
     "output_type": "stream",
     "text": [
      "[STEP: 800] \t| Valid Loss: 0.048106 \t| Hole Loss: 0.028209 \t| Total Loss: 5.518700\n"
     ]
    },
    {
     "name": "stderr",
     "output_type": "stream",
     "text": [
      "Progress:   1%|          | 901/100000 [04:14<7:31:25,  3.66step/s]"
     ]
    },
    {
     "name": "stdout",
     "output_type": "stream",
     "text": [
      "[STEP: 900] \t| Valid Loss: 0.047880 \t| Hole Loss: 0.035160 \t| Total Loss: 6.178837\n"
     ]
    },
    {
     "name": "stderr",
     "output_type": "stream",
     "text": [
      "Progress:   1%|          | 1001/100000 [04:41<7:35:22,  3.62step/s]"
     ]
    },
    {
     "name": "stdout",
     "output_type": "stream",
     "text": [
      "[STEP: 1000] \t| Valid Loss: 0.050464 \t| Hole Loss: 0.028681 \t| Total Loss: 6.567255\n"
     ]
    },
    {
     "name": "stderr",
     "output_type": "stream",
     "text": [
      "Progress:   1%|          | 1101/100000 [05:09<7:32:56,  3.64step/s]"
     ]
    },
    {
     "name": "stdout",
     "output_type": "stream",
     "text": [
      "[STEP: 1100] \t| Valid Loss: 0.050230 \t| Hole Loss: 0.040582 \t| Total Loss: 6.877061\n"
     ]
    },
    {
     "name": "stderr",
     "output_type": "stream",
     "text": [
      "Progress:   1%|          | 1201/100000 [05:36<7:30:46,  3.65step/s]"
     ]
    },
    {
     "name": "stdout",
     "output_type": "stream",
     "text": [
      "[STEP: 1200] \t| Valid Loss: 0.035265 \t| Hole Loss: 0.026734 \t| Total Loss: 4.854030\n"
     ]
    },
    {
     "name": "stderr",
     "output_type": "stream",
     "text": [
      "Progress:   1%|▏         | 1301/100000 [06:04<7:31:57,  3.64step/s]"
     ]
    },
    {
     "name": "stdout",
     "output_type": "stream",
     "text": [
      "[STEP: 1300] \t| Valid Loss: 0.037713 \t| Hole Loss: 0.031806 \t| Total Loss: 5.644855\n"
     ]
    },
    {
     "name": "stderr",
     "output_type": "stream",
     "text": [
      "Progress:   1%|▏         | 1401/100000 [06:31<7:33:44,  3.62step/s]"
     ]
    },
    {
     "name": "stdout",
     "output_type": "stream",
     "text": [
      "[STEP: 1400] \t| Valid Loss: 0.044634 \t| Hole Loss: 0.028151 \t| Total Loss: 6.115134\n"
     ]
    },
    {
     "name": "stderr",
     "output_type": "stream",
     "text": [
      "Progress:   2%|▏         | 1501/100000 [06:59<7:29:30,  3.65step/s]"
     ]
    },
    {
     "name": "stdout",
     "output_type": "stream",
     "text": [
      "[STEP: 1500] \t| Valid Loss: 0.052953 \t| Hole Loss: 0.035146 \t| Total Loss: 7.492177\n"
     ]
    },
    {
     "name": "stderr",
     "output_type": "stream",
     "text": [
      "Progress:   2%|▏         | 1601/100000 [07:26<7:39:42,  3.57step/s]"
     ]
    },
    {
     "name": "stdout",
     "output_type": "stream",
     "text": [
      "[STEP: 1600] \t| Valid Loss: 0.038309 \t| Hole Loss: 0.036414 \t| Total Loss: 6.581063\n"
     ]
    },
    {
     "name": "stderr",
     "output_type": "stream",
     "text": [
      "Progress:   2%|▏         | 1701/100000 [07:54<7:32:41,  3.62step/s]"
     ]
    },
    {
     "name": "stdout",
     "output_type": "stream",
     "text": [
      "[STEP: 1700] \t| Valid Loss: 0.042793 \t| Hole Loss: 0.022646 \t| Total Loss: 4.625793\n"
     ]
    },
    {
     "name": "stderr",
     "output_type": "stream",
     "text": [
      "Progress:   2%|▏         | 1801/100000 [08:21<7:29:06,  3.64step/s]"
     ]
    },
    {
     "name": "stdout",
     "output_type": "stream",
     "text": [
      "[STEP: 1800] \t| Valid Loss: 0.041745 \t| Hole Loss: 0.029761 \t| Total Loss: 5.312867\n"
     ]
    },
    {
     "name": "stderr",
     "output_type": "stream",
     "text": [
      "Progress:   2%|▏         | 1901/100000 [08:49<7:26:01,  3.67step/s]"
     ]
    },
    {
     "name": "stdout",
     "output_type": "stream",
     "text": [
      "[STEP: 1900] \t| Valid Loss: 0.030175 \t| Hole Loss: 0.027793 \t| Total Loss: 4.415869\n"
     ]
    },
    {
     "name": "stderr",
     "output_type": "stream",
     "text": [
      "Progress:   2%|▏         | 2000/100000 [09:16<7:25:36,  3.67step/s]"
     ]
    },
    {
     "name": "stdout",
     "output_type": "stream",
     "text": [
      "[STEP: 2000] \t| Valid Loss: 0.036728 \t| Hole Loss: 0.033290 \t| Total Loss: 5.851657\n",
      "- Evaluation at [STEP: 2000] ...\n",
      "> Average PSNR: 21.336247, SSIM: 0.834850\n",
      "> Total Loss: 5.818040\n"
     ]
    },
    {
     "name": "stderr",
     "output_type": "stream",
     "text": [
      "Progress:   2%|▏         | 2001/100000 [09:19<26:19:25,  1.03step/s]"
     ]
    },
    {
     "name": "stdout",
     "output_type": "stream",
     "text": [
      "> New best model saved\n"
     ]
    },
    {
     "name": "stderr",
     "output_type": "stream",
     "text": [
      "Progress:   2%|▏         | 2101/100000 [09:46<7:33:08,  3.60step/s]"
     ]
    },
    {
     "name": "stdout",
     "output_type": "stream",
     "text": [
      "[STEP: 2100] \t| Valid Loss: 0.036140 \t| Hole Loss: 0.026089 \t| Total Loss: 4.434472\n"
     ]
    },
    {
     "name": "stderr",
     "output_type": "stream",
     "text": [
      "Progress:   2%|▏         | 2201/100000 [10:14<7:26:02,  3.65step/s]"
     ]
    },
    {
     "name": "stdout",
     "output_type": "stream",
     "text": [
      "[STEP: 2200] \t| Valid Loss: 0.033137 \t| Hole Loss: 0.031946 \t| Total Loss: 5.351589\n"
     ]
    },
    {
     "name": "stderr",
     "output_type": "stream",
     "text": [
      "Progress:   2%|▏         | 2301/100000 [10:41<7:27:28,  3.64step/s]"
     ]
    },
    {
     "name": "stdout",
     "output_type": "stream",
     "text": [
      "[STEP: 2300] \t| Valid Loss: 0.029935 \t| Hole Loss: 0.023186 \t| Total Loss: 3.878724\n"
     ]
    },
    {
     "name": "stderr",
     "output_type": "stream",
     "text": [
      "Progress:   2%|▏         | 2401/100000 [11:09<7:43:56,  3.51step/s]"
     ]
    },
    {
     "name": "stdout",
     "output_type": "stream",
     "text": [
      "[STEP: 2400] \t| Valid Loss: 0.032966 \t| Hole Loss: 0.028316 \t| Total Loss: 5.521761\n"
     ]
    },
    {
     "name": "stderr",
     "output_type": "stream",
     "text": [
      "Progress:   3%|▎         | 2501/100000 [11:36<7:27:28,  3.63step/s]"
     ]
    },
    {
     "name": "stdout",
     "output_type": "stream",
     "text": [
      "[STEP: 2500] \t| Valid Loss: 0.041153 \t| Hole Loss: 0.028205 \t| Total Loss: 5.803510\n"
     ]
    },
    {
     "name": "stderr",
     "output_type": "stream",
     "text": [
      "Progress:   3%|▎         | 2601/100000 [12:04<7:23:48,  3.66step/s]"
     ]
    },
    {
     "name": "stdout",
     "output_type": "stream",
     "text": [
      "[STEP: 2600] \t| Valid Loss: 0.037840 \t| Hole Loss: 0.027483 \t| Total Loss: 4.152258\n"
     ]
    },
    {
     "name": "stderr",
     "output_type": "stream",
     "text": [
      "Progress:   3%|▎         | 2701/100000 [12:31<7:28:06,  3.62step/s]"
     ]
    },
    {
     "name": "stdout",
     "output_type": "stream",
     "text": [
      "[STEP: 2700] \t| Valid Loss: 0.030175 \t| Hole Loss: 0.033753 \t| Total Loss: 5.190881\n"
     ]
    },
    {
     "name": "stderr",
     "output_type": "stream",
     "text": [
      "Progress:   3%|▎         | 2801/100000 [12:59<7:22:44,  3.66step/s]"
     ]
    },
    {
     "name": "stdout",
     "output_type": "stream",
     "text": [
      "[STEP: 2800] \t| Valid Loss: 0.035913 \t| Hole Loss: 0.029543 \t| Total Loss: 5.750316\n"
     ]
    },
    {
     "name": "stderr",
     "output_type": "stream",
     "text": [
      "Progress:   3%|▎         | 2901/100000 [13:26<7:24:44,  3.64step/s]"
     ]
    },
    {
     "name": "stdout",
     "output_type": "stream",
     "text": [
      "[STEP: 2900] \t| Valid Loss: 0.035349 \t| Hole Loss: 0.022121 \t| Total Loss: 5.102531\n"
     ]
    },
    {
     "name": "stderr",
     "output_type": "stream",
     "text": [
      "Progress:   3%|▎         | 3001/100000 [13:54<7:23:02,  3.65step/s]"
     ]
    },
    {
     "name": "stdout",
     "output_type": "stream",
     "text": [
      "[STEP: 3000] \t| Valid Loss: 0.031937 \t| Hole Loss: 0.025155 \t| Total Loss: 3.859391\n"
     ]
    },
    {
     "name": "stderr",
     "output_type": "stream",
     "text": [
      "Progress:   3%|▎         | 3101/100000 [14:21<7:23:20,  3.64step/s]"
     ]
    },
    {
     "name": "stdout",
     "output_type": "stream",
     "text": [
      "[STEP: 3100] \t| Valid Loss: 0.033748 \t| Hole Loss: 0.027892 \t| Total Loss: 4.468733\n"
     ]
    },
    {
     "name": "stderr",
     "output_type": "stream",
     "text": [
      "Progress:   3%|▎         | 3201/100000 [14:49<7:20:48,  3.66step/s]"
     ]
    },
    {
     "name": "stdout",
     "output_type": "stream",
     "text": [
      "[STEP: 3200] \t| Valid Loss: 0.024011 \t| Hole Loss: 0.022039 \t| Total Loss: 3.423162\n"
     ]
    },
    {
     "name": "stderr",
     "output_type": "stream",
     "text": [
      "Progress:   3%|▎         | 3301/100000 [15:16<7:22:13,  3.64step/s]"
     ]
    },
    {
     "name": "stdout",
     "output_type": "stream",
     "text": [
      "[STEP: 3300] \t| Valid Loss: 0.026598 \t| Hole Loss: 0.026951 \t| Total Loss: 3.748972\n"
     ]
    },
    {
     "name": "stderr",
     "output_type": "stream",
     "text": [
      "Progress:   3%|▎         | 3401/100000 [15:44<7:19:36,  3.66step/s]"
     ]
    },
    {
     "name": "stdout",
     "output_type": "stream",
     "text": [
      "[STEP: 3400] \t| Valid Loss: 0.030809 \t| Hole Loss: 0.029868 \t| Total Loss: 4.138073\n"
     ]
    },
    {
     "name": "stderr",
     "output_type": "stream",
     "text": [
      "Progress:   4%|▎         | 3501/100000 [16:11<7:21:54,  3.64step/s]"
     ]
    },
    {
     "name": "stdout",
     "output_type": "stream",
     "text": [
      "[STEP: 3500] \t| Valid Loss: 0.026207 \t| Hole Loss: 0.024533 \t| Total Loss: 4.030191\n"
     ]
    },
    {
     "name": "stderr",
     "output_type": "stream",
     "text": [
      "Progress:   4%|▎         | 3601/100000 [16:39<7:19:02,  3.66step/s]"
     ]
    },
    {
     "name": "stdout",
     "output_type": "stream",
     "text": [
      "[STEP: 3600] \t| Valid Loss: 0.034602 \t| Hole Loss: 0.025342 \t| Total Loss: 4.615358\n"
     ]
    },
    {
     "name": "stderr",
     "output_type": "stream",
     "text": [
      "Progress:   4%|▎         | 3701/100000 [17:06<7:18:32,  3.66step/s]"
     ]
    },
    {
     "name": "stdout",
     "output_type": "stream",
     "text": [
      "[STEP: 3700] \t| Valid Loss: 0.025808 \t| Hole Loss: 0.032448 \t| Total Loss: 3.823541\n"
     ]
    },
    {
     "name": "stderr",
     "output_type": "stream",
     "text": [
      "Progress:   4%|▍         | 3801/100000 [17:34<7:15:45,  3.68step/s]"
     ]
    },
    {
     "name": "stdout",
     "output_type": "stream",
     "text": [
      "[STEP: 3800] \t| Valid Loss: 0.025011 \t| Hole Loss: 0.025854 \t| Total Loss: 4.093894\n"
     ]
    },
    {
     "name": "stderr",
     "output_type": "stream",
     "text": [
      "Progress:   4%|▍         | 3901/100000 [18:01<7:26:46,  3.58step/s]"
     ]
    },
    {
     "name": "stdout",
     "output_type": "stream",
     "text": [
      "[STEP: 3900] \t| Valid Loss: 0.028622 \t| Hole Loss: 0.020733 \t| Total Loss: 4.878726\n"
     ]
    },
    {
     "name": "stderr",
     "output_type": "stream",
     "text": [
      "Progress:   4%|▍         | 4000/100000 [18:28<7:15:47,  3.67step/s]"
     ]
    },
    {
     "name": "stdout",
     "output_type": "stream",
     "text": [
      "[STEP: 4000] \t| Valid Loss: 0.027728 \t| Hole Loss: 0.021934 \t| Total Loss: 3.797950\n",
      "- Evaluation at [STEP: 4000] ...\n",
      "> Average PSNR: 21.939438, SSIM: 0.863274\n",
      "> Total Loss: 4.412156\n"
     ]
    },
    {
     "name": "stderr",
     "output_type": "stream",
     "text": [
      "Progress:   4%|▍         | 4001/100000 [18:31<26:07:22,  1.02step/s]"
     ]
    },
    {
     "name": "stdout",
     "output_type": "stream",
     "text": [
      "> New best model saved\n"
     ]
    },
    {
     "name": "stderr",
     "output_type": "stream",
     "text": [
      "Progress:   4%|▍         | 4101/100000 [18:58<7:19:09,  3.64step/s]"
     ]
    },
    {
     "name": "stdout",
     "output_type": "stream",
     "text": [
      "[STEP: 4100] \t| Valid Loss: 0.027001 \t| Hole Loss: 0.015594 \t| Total Loss: 2.289403\n"
     ]
    },
    {
     "name": "stderr",
     "output_type": "stream",
     "text": [
      "Progress:   4%|▍         | 4201/100000 [19:26<7:19:45,  3.63step/s]"
     ]
    },
    {
     "name": "stdout",
     "output_type": "stream",
     "text": [
      "[STEP: 4200] \t| Valid Loss: 0.027589 \t| Hole Loss: 0.026433 \t| Total Loss: 3.894852\n"
     ]
    },
    {
     "name": "stderr",
     "output_type": "stream",
     "text": [
      "Progress:   4%|▍         | 4301/100000 [19:54<7:24:46,  3.59step/s]"
     ]
    },
    {
     "name": "stdout",
     "output_type": "stream",
     "text": [
      "[STEP: 4300] \t| Valid Loss: 0.029750 \t| Hole Loss: 0.020204 \t| Total Loss: 3.842813\n"
     ]
    },
    {
     "name": "stderr",
     "output_type": "stream",
     "text": [
      "Progress:   4%|▍         | 4401/100000 [20:21<7:20:13,  3.62step/s]"
     ]
    },
    {
     "name": "stdout",
     "output_type": "stream",
     "text": [
      "[STEP: 4400] \t| Valid Loss: 0.030856 \t| Hole Loss: 0.019930 \t| Total Loss: 3.509270\n"
     ]
    },
    {
     "name": "stderr",
     "output_type": "stream",
     "text": [
      "Progress:   5%|▍         | 4501/100000 [20:49<7:21:53,  3.60step/s]"
     ]
    },
    {
     "name": "stdout",
     "output_type": "stream",
     "text": [
      "[STEP: 4500] \t| Valid Loss: 0.021043 \t| Hole Loss: 0.028945 \t| Total Loss: 4.474274\n"
     ]
    },
    {
     "name": "stderr",
     "output_type": "stream",
     "text": [
      "Progress:   5%|▍         | 4601/100000 [21:16<7:14:44,  3.66step/s]"
     ]
    },
    {
     "name": "stdout",
     "output_type": "stream",
     "text": [
      "[STEP: 4600] \t| Valid Loss: 0.024182 \t| Hole Loss: 0.026899 \t| Total Loss: 4.216083\n"
     ]
    },
    {
     "name": "stderr",
     "output_type": "stream",
     "text": [
      "Progress:   5%|▍         | 4701/100000 [21:44<7:22:06,  3.59step/s]"
     ]
    },
    {
     "name": "stdout",
     "output_type": "stream",
     "text": [
      "[STEP: 4700] \t| Valid Loss: 0.024866 \t| Hole Loss: 0.022573 \t| Total Loss: 4.077468\n"
     ]
    },
    {
     "name": "stderr",
     "output_type": "stream",
     "text": [
      "Progress:   5%|▍         | 4801/100000 [22:11<7:15:52,  3.64step/s]"
     ]
    },
    {
     "name": "stdout",
     "output_type": "stream",
     "text": [
      "[STEP: 4800] \t| Valid Loss: 0.026559 \t| Hole Loss: 0.028849 \t| Total Loss: 3.512433\n"
     ]
    },
    {
     "name": "stderr",
     "output_type": "stream",
     "text": [
      "Progress:   5%|▍         | 4901/100000 [22:39<7:11:34,  3.67step/s]"
     ]
    },
    {
     "name": "stdout",
     "output_type": "stream",
     "text": [
      "[STEP: 4900] \t| Valid Loss: 0.029696 \t| Hole Loss: 0.035767 \t| Total Loss: 4.708619\n"
     ]
    },
    {
     "name": "stderr",
     "output_type": "stream",
     "text": [
      "Progress:   5%|▌         | 5001/100000 [23:06<7:10:47,  3.68step/s]"
     ]
    },
    {
     "name": "stdout",
     "output_type": "stream",
     "text": [
      "[STEP: 5000] \t| Valid Loss: 0.027120 \t| Hole Loss: 0.024362 \t| Total Loss: 3.761987\n"
     ]
    },
    {
     "name": "stderr",
     "output_type": "stream",
     "text": [
      "Progress:   5%|▌         | 5101/100000 [23:33<7:12:20,  3.66step/s]"
     ]
    },
    {
     "name": "stdout",
     "output_type": "stream",
     "text": [
      "[STEP: 5100] \t| Valid Loss: 0.022843 \t| Hole Loss: 0.025460 \t| Total Loss: 3.749864\n"
     ]
    },
    {
     "name": "stderr",
     "output_type": "stream",
     "text": [
      "Progress:   5%|▌         | 5201/100000 [24:01<7:12:35,  3.65step/s]"
     ]
    },
    {
     "name": "stdout",
     "output_type": "stream",
     "text": [
      "[STEP: 5200] \t| Valid Loss: 0.022318 \t| Hole Loss: 0.025839 \t| Total Loss: 3.869344\n"
     ]
    },
    {
     "name": "stderr",
     "output_type": "stream",
     "text": [
      "Progress:   5%|▌         | 5301/100000 [24:29<7:12:37,  3.65step/s]"
     ]
    },
    {
     "name": "stdout",
     "output_type": "stream",
     "text": [
      "[STEP: 5300] \t| Valid Loss: 0.019385 \t| Hole Loss: 0.020272 \t| Total Loss: 3.429431\n"
     ]
    },
    {
     "name": "stderr",
     "output_type": "stream",
     "text": [
      "Progress:   5%|▌         | 5401/100000 [24:56<7:09:30,  3.67step/s]"
     ]
    },
    {
     "name": "stdout",
     "output_type": "stream",
     "text": [
      "[STEP: 5400] \t| Valid Loss: 0.024074 \t| Hole Loss: 0.035947 \t| Total Loss: 4.579571\n"
     ]
    },
    {
     "name": "stderr",
     "output_type": "stream",
     "text": [
      "Progress:   6%|▌         | 5501/100000 [25:23<7:12:45,  3.64step/s]"
     ]
    },
    {
     "name": "stdout",
     "output_type": "stream",
     "text": [
      "[STEP: 5500] \t| Valid Loss: 0.025527 \t| Hole Loss: 0.020563 \t| Total Loss: 3.367471\n"
     ]
    },
    {
     "name": "stderr",
     "output_type": "stream",
     "text": [
      "Progress:   6%|▌         | 5601/100000 [25:51<7:18:22,  3.59step/s]"
     ]
    },
    {
     "name": "stdout",
     "output_type": "stream",
     "text": [
      "[STEP: 5600] \t| Valid Loss: 0.020958 \t| Hole Loss: 0.019341 \t| Total Loss: 3.521991\n"
     ]
    },
    {
     "name": "stderr",
     "output_type": "stream",
     "text": [
      "Progress:   6%|▌         | 5701/100000 [26:18<7:12:11,  3.64step/s]"
     ]
    },
    {
     "name": "stdout",
     "output_type": "stream",
     "text": [
      "[STEP: 5700] \t| Valid Loss: 0.027603 \t| Hole Loss: 0.022533 \t| Total Loss: 3.941316\n"
     ]
    },
    {
     "name": "stderr",
     "output_type": "stream",
     "text": [
      "Progress:   6%|▌         | 5801/100000 [26:46<7:09:19,  3.66step/s]"
     ]
    },
    {
     "name": "stdout",
     "output_type": "stream",
     "text": [
      "[STEP: 5800] \t| Valid Loss: 0.029216 \t| Hole Loss: 0.025181 \t| Total Loss: 3.273829\n"
     ]
    },
    {
     "name": "stderr",
     "output_type": "stream",
     "text": [
      "Progress:   6%|▌         | 5901/100000 [27:13<7:08:53,  3.66step/s]"
     ]
    },
    {
     "name": "stdout",
     "output_type": "stream",
     "text": [
      "[STEP: 5900] \t| Valid Loss: 0.023189 \t| Hole Loss: 0.018876 \t| Total Loss: 2.973243\n"
     ]
    },
    {
     "name": "stderr",
     "output_type": "stream",
     "text": [
      "Progress:   6%|▌         | 6000/100000 [27:41<7:04:57,  3.69step/s]"
     ]
    },
    {
     "name": "stdout",
     "output_type": "stream",
     "text": [
      "[STEP: 6000] \t| Valid Loss: 0.019304 \t| Hole Loss: 0.018233 \t| Total Loss: 2.634644\n",
      "- Evaluation at [STEP: 6000] ...\n",
      "> Average PSNR: 23.140031, SSIM: 0.874231\n",
      "> Total Loss: 4.160355\n"
     ]
    },
    {
     "name": "stderr",
     "output_type": "stream",
     "text": [
      "Progress:   6%|▌         | 6001/100000 [27:43<25:03:20,  1.04step/s]"
     ]
    },
    {
     "name": "stdout",
     "output_type": "stream",
     "text": [
      "> New best model saved\n"
     ]
    },
    {
     "name": "stderr",
     "output_type": "stream",
     "text": [
      "Progress:   6%|▌         | 6101/100000 [28:11<7:08:45,  3.65step/s]"
     ]
    },
    {
     "name": "stdout",
     "output_type": "stream",
     "text": [
      "[STEP: 6100] \t| Valid Loss: 0.029374 \t| Hole Loss: 0.035523 \t| Total Loss: 4.323860\n"
     ]
    },
    {
     "name": "stderr",
     "output_type": "stream",
     "text": [
      "Progress:   6%|▌         | 6201/100000 [28:38<7:11:19,  3.62step/s]"
     ]
    },
    {
     "name": "stdout",
     "output_type": "stream",
     "text": [
      "[STEP: 6200] \t| Valid Loss: 0.021853 \t| Hole Loss: 0.023823 \t| Total Loss: 3.461844\n"
     ]
    },
    {
     "name": "stderr",
     "output_type": "stream",
     "text": [
      "Progress:   6%|▋         | 6301/100000 [29:06<7:11:52,  3.62step/s]"
     ]
    },
    {
     "name": "stdout",
     "output_type": "stream",
     "text": [
      "[STEP: 6300] \t| Valid Loss: 0.025150 \t| Hole Loss: 0.017474 \t| Total Loss: 2.807637\n"
     ]
    },
    {
     "name": "stderr",
     "output_type": "stream",
     "text": [
      "Progress:   6%|▋         | 6401/100000 [29:33<7:13:38,  3.60step/s]"
     ]
    },
    {
     "name": "stdout",
     "output_type": "stream",
     "text": [
      "[STEP: 6400] \t| Valid Loss: 0.022303 \t| Hole Loss: 0.021912 \t| Total Loss: 3.398662\n"
     ]
    },
    {
     "name": "stderr",
     "output_type": "stream",
     "text": [
      "Progress:   7%|▋         | 6501/100000 [30:00<7:05:42,  3.66step/s]"
     ]
    },
    {
     "name": "stdout",
     "output_type": "stream",
     "text": [
      "[STEP: 6500] \t| Valid Loss: 0.024918 \t| Hole Loss: 0.027589 \t| Total Loss: 4.298926\n"
     ]
    },
    {
     "name": "stderr",
     "output_type": "stream",
     "text": [
      "Progress:   7%|▋         | 6601/100000 [30:28<7:04:04,  3.67step/s]"
     ]
    },
    {
     "name": "stdout",
     "output_type": "stream",
     "text": [
      "[STEP: 6600] \t| Valid Loss: 0.024838 \t| Hole Loss: 0.020315 \t| Total Loss: 3.403013\n"
     ]
    },
    {
     "name": "stderr",
     "output_type": "stream",
     "text": [
      "Progress:   7%|▋         | 6701/100000 [30:55<7:08:22,  3.63step/s]"
     ]
    },
    {
     "name": "stdout",
     "output_type": "stream",
     "text": [
      "[STEP: 6700] \t| Valid Loss: 0.024624 \t| Hole Loss: 0.022115 \t| Total Loss: 3.189740\n"
     ]
    },
    {
     "name": "stderr",
     "output_type": "stream",
     "text": [
      "Progress:   7%|▋         | 6801/100000 [31:23<7:00:33,  3.69step/s]"
     ]
    },
    {
     "name": "stdout",
     "output_type": "stream",
     "text": [
      "[STEP: 6800] \t| Valid Loss: 0.026632 \t| Hole Loss: 0.022490 \t| Total Loss: 4.479903\n"
     ]
    },
    {
     "name": "stderr",
     "output_type": "stream",
     "text": [
      "Progress:   7%|▋         | 6901/100000 [31:50<7:03:39,  3.66step/s]"
     ]
    },
    {
     "name": "stdout",
     "output_type": "stream",
     "text": [
      "[STEP: 6900] \t| Valid Loss: 0.024896 \t| Hole Loss: 0.024366 \t| Total Loss: 3.783947\n"
     ]
    },
    {
     "name": "stderr",
     "output_type": "stream",
     "text": [
      "Progress:   7%|▋         | 7001/100000 [32:18<7:20:13,  3.52step/s]"
     ]
    },
    {
     "name": "stdout",
     "output_type": "stream",
     "text": [
      "[STEP: 7000] \t| Valid Loss: 0.024461 \t| Hole Loss: 0.020838 \t| Total Loss: 3.719002\n"
     ]
    },
    {
     "name": "stderr",
     "output_type": "stream",
     "text": [
      "Progress:   7%|▋         | 7101/100000 [32:45<7:06:23,  3.63step/s]"
     ]
    },
    {
     "name": "stdout",
     "output_type": "stream",
     "text": [
      "[STEP: 7100] \t| Valid Loss: 0.029676 \t| Hole Loss: 0.026005 \t| Total Loss: 5.827847\n"
     ]
    },
    {
     "name": "stderr",
     "output_type": "stream",
     "text": [
      "Progress:   7%|▋         | 7201/100000 [33:13<7:11:34,  3.58step/s]"
     ]
    },
    {
     "name": "stdout",
     "output_type": "stream",
     "text": [
      "[STEP: 7200] \t| Valid Loss: 0.025115 \t| Hole Loss: 0.030205 \t| Total Loss: 3.271894\n"
     ]
    },
    {
     "name": "stderr",
     "output_type": "stream",
     "text": [
      "Progress:   7%|▋         | 7301/100000 [33:40<7:07:27,  3.61step/s]"
     ]
    },
    {
     "name": "stdout",
     "output_type": "stream",
     "text": [
      "[STEP: 7300] \t| Valid Loss: 0.022501 \t| Hole Loss: 0.019134 \t| Total Loss: 3.696724\n"
     ]
    },
    {
     "name": "stderr",
     "output_type": "stream",
     "text": [
      "Progress:   7%|▋         | 7401/100000 [34:08<7:08:18,  3.60step/s]"
     ]
    },
    {
     "name": "stdout",
     "output_type": "stream",
     "text": [
      "[STEP: 7400] \t| Valid Loss: 0.022088 \t| Hole Loss: 0.032569 \t| Total Loss: 4.577781\n"
     ]
    },
    {
     "name": "stderr",
     "output_type": "stream",
     "text": [
      "Progress:   8%|▊         | 7501/100000 [34:35<7:07:03,  3.61step/s]"
     ]
    },
    {
     "name": "stdout",
     "output_type": "stream",
     "text": [
      "[STEP: 7500] \t| Valid Loss: 0.024602 \t| Hole Loss: 0.026984 \t| Total Loss: 3.808824\n"
     ]
    },
    {
     "name": "stderr",
     "output_type": "stream",
     "text": [
      "Progress:   8%|▊         | 7601/100000 [35:03<7:00:47,  3.66step/s]"
     ]
    },
    {
     "name": "stdout",
     "output_type": "stream",
     "text": [
      "[STEP: 7600] \t| Valid Loss: 0.030888 \t| Hole Loss: 0.032985 \t| Total Loss: 3.911040\n"
     ]
    },
    {
     "name": "stderr",
     "output_type": "stream",
     "text": [
      "Progress:   8%|▊         | 7701/100000 [35:30<6:57:26,  3.69step/s]"
     ]
    },
    {
     "name": "stdout",
     "output_type": "stream",
     "text": [
      "[STEP: 7700] \t| Valid Loss: 0.018140 \t| Hole Loss: 0.021515 \t| Total Loss: 3.432583\n"
     ]
    },
    {
     "name": "stderr",
     "output_type": "stream",
     "text": [
      "Progress:   8%|▊         | 7801/100000 [35:58<7:02:59,  3.63step/s]"
     ]
    },
    {
     "name": "stdout",
     "output_type": "stream",
     "text": [
      "[STEP: 7800] \t| Valid Loss: 0.027581 \t| Hole Loss: 0.021047 \t| Total Loss: 4.097199\n"
     ]
    },
    {
     "name": "stderr",
     "output_type": "stream",
     "text": [
      "Progress:   8%|▊         | 7901/100000 [36:25<6:57:05,  3.68step/s]"
     ]
    },
    {
     "name": "stdout",
     "output_type": "stream",
     "text": [
      "[STEP: 7900] \t| Valid Loss: 0.030012 \t| Hole Loss: 0.024941 \t| Total Loss: 4.846479\n"
     ]
    },
    {
     "name": "stderr",
     "output_type": "stream",
     "text": [
      "Progress:   8%|▊         | 8000/100000 [36:52<7:00:58,  3.64step/s]"
     ]
    },
    {
     "name": "stdout",
     "output_type": "stream",
     "text": [
      "[STEP: 8000] \t| Valid Loss: 0.023942 \t| Hole Loss: 0.020919 \t| Total Loss: 3.098984\n",
      "- Evaluation at [STEP: 8000] ...\n",
      "> Average PSNR: 22.289549, SSIM: 0.875061\n",
      "> Total Loss: 3.925583\n"
     ]
    },
    {
     "name": "stderr",
     "output_type": "stream",
     "text": [
      "Progress:   8%|▊         | 8001/100000 [36:55<24:41:42,  1.03step/s]"
     ]
    },
    {
     "name": "stdout",
     "output_type": "stream",
     "text": [
      "> New best model saved\n"
     ]
    },
    {
     "name": "stderr",
     "output_type": "stream",
     "text": [
      "Progress:   8%|▊         | 8101/100000 [37:22<7:06:27,  3.59step/s]"
     ]
    },
    {
     "name": "stdout",
     "output_type": "stream",
     "text": [
      "[STEP: 8100] \t| Valid Loss: 0.022230 \t| Hole Loss: 0.019478 \t| Total Loss: 3.076825\n"
     ]
    },
    {
     "name": "stderr",
     "output_type": "stream",
     "text": [
      "Progress:   8%|▊         | 8201/100000 [37:50<7:01:46,  3.63step/s]"
     ]
    },
    {
     "name": "stdout",
     "output_type": "stream",
     "text": [
      "[STEP: 8200] \t| Valid Loss: 0.022439 \t| Hole Loss: 0.021017 \t| Total Loss: 3.210505\n"
     ]
    },
    {
     "name": "stderr",
     "output_type": "stream",
     "text": [
      "Progress:   8%|▊         | 8301/100000 [38:17<6:59:33,  3.64step/s]"
     ]
    },
    {
     "name": "stdout",
     "output_type": "stream",
     "text": [
      "[STEP: 8300] \t| Valid Loss: 0.021944 \t| Hole Loss: 0.028795 \t| Total Loss: 3.811227\n"
     ]
    },
    {
     "name": "stderr",
     "output_type": "stream",
     "text": [
      "Progress:   8%|▊         | 8401/100000 [38:45<7:00:56,  3.63step/s]"
     ]
    },
    {
     "name": "stdout",
     "output_type": "stream",
     "text": [
      "[STEP: 8400] \t| Valid Loss: 0.020408 \t| Hole Loss: 0.036130 \t| Total Loss: 3.666248\n"
     ]
    },
    {
     "name": "stderr",
     "output_type": "stream",
     "text": [
      "Progress:   9%|▊         | 8501/100000 [39:12<7:00:09,  3.63step/s]"
     ]
    },
    {
     "name": "stdout",
     "output_type": "stream",
     "text": [
      "[STEP: 8500] \t| Valid Loss: 0.022464 \t| Hole Loss: 0.021122 \t| Total Loss: 2.949396\n"
     ]
    },
    {
     "name": "stderr",
     "output_type": "stream",
     "text": [
      "Progress:   9%|▊         | 8601/100000 [39:40<7:07:02,  3.57step/s]"
     ]
    },
    {
     "name": "stdout",
     "output_type": "stream",
     "text": [
      "[STEP: 8600] \t| Valid Loss: 0.028330 \t| Hole Loss: 0.032700 \t| Total Loss: 4.544561\n"
     ]
    },
    {
     "name": "stderr",
     "output_type": "stream",
     "text": [
      "Progress:   9%|▊         | 8701/100000 [40:07<7:01:25,  3.61step/s]"
     ]
    },
    {
     "name": "stdout",
     "output_type": "stream",
     "text": [
      "[STEP: 8700] \t| Valid Loss: 0.021552 \t| Hole Loss: 0.035317 \t| Total Loss: 3.764901\n"
     ]
    },
    {
     "name": "stderr",
     "output_type": "stream",
     "text": [
      "Progress:   9%|▉         | 8801/100000 [40:35<6:56:36,  3.65step/s]"
     ]
    },
    {
     "name": "stdout",
     "output_type": "stream",
     "text": [
      "[STEP: 8800] \t| Valid Loss: 0.028268 \t| Hole Loss: 0.023378 \t| Total Loss: 3.594461\n"
     ]
    },
    {
     "name": "stderr",
     "output_type": "stream",
     "text": [
      "Progress:   9%|▉         | 8901/100000 [41:02<6:59:59,  3.62step/s]"
     ]
    },
    {
     "name": "stdout",
     "output_type": "stream",
     "text": [
      "[STEP: 8900] \t| Valid Loss: 0.022134 \t| Hole Loss: 0.035790 \t| Total Loss: 4.568134\n"
     ]
    },
    {
     "name": "stderr",
     "output_type": "stream",
     "text": [
      "Progress:   9%|▉         | 9001/100000 [41:30<6:54:02,  3.66step/s]"
     ]
    },
    {
     "name": "stdout",
     "output_type": "stream",
     "text": [
      "[STEP: 9000] \t| Valid Loss: 0.019015 \t| Hole Loss: 0.017419 \t| Total Loss: 3.035781\n"
     ]
    },
    {
     "name": "stderr",
     "output_type": "stream",
     "text": [
      "Progress:   9%|▉         | 9101/100000 [41:57<6:58:03,  3.62step/s]"
     ]
    },
    {
     "name": "stdout",
     "output_type": "stream",
     "text": [
      "[STEP: 9100] \t| Valid Loss: 0.020123 \t| Hole Loss: 0.021458 \t| Total Loss: 3.066794\n"
     ]
    },
    {
     "name": "stderr",
     "output_type": "stream",
     "text": [
      "Progress:   9%|▉         | 9201/100000 [42:24<6:56:26,  3.63step/s]"
     ]
    },
    {
     "name": "stdout",
     "output_type": "stream",
     "text": [
      "[STEP: 9200] \t| Valid Loss: 0.021718 \t| Hole Loss: 0.023368 \t| Total Loss: 2.865021\n"
     ]
    },
    {
     "name": "stderr",
     "output_type": "stream",
     "text": [
      "Progress:   9%|▉         | 9301/100000 [42:52<6:57:46,  3.62step/s]"
     ]
    },
    {
     "name": "stdout",
     "output_type": "stream",
     "text": [
      "[STEP: 9300] \t| Valid Loss: 0.022519 \t| Hole Loss: 0.024279 \t| Total Loss: 3.173134\n"
     ]
    },
    {
     "name": "stderr",
     "output_type": "stream",
     "text": [
      "Progress:   9%|▉         | 9401/100000 [43:19<6:55:06,  3.64step/s]"
     ]
    },
    {
     "name": "stdout",
     "output_type": "stream",
     "text": [
      "[STEP: 9400] \t| Valid Loss: 0.018831 \t| Hole Loss: 0.020484 \t| Total Loss: 3.428092\n"
     ]
    },
    {
     "name": "stderr",
     "output_type": "stream",
     "text": [
      "Progress:  10%|▉         | 9501/100000 [43:47<6:51:58,  3.66step/s]"
     ]
    },
    {
     "name": "stdout",
     "output_type": "stream",
     "text": [
      "[STEP: 9500] \t| Valid Loss: 0.018562 \t| Hole Loss: 0.019733 \t| Total Loss: 2.368709\n"
     ]
    },
    {
     "name": "stderr",
     "output_type": "stream",
     "text": [
      "Progress:  10%|▉         | 9601/100000 [44:14<6:54:27,  3.64step/s]"
     ]
    },
    {
     "name": "stdout",
     "output_type": "stream",
     "text": [
      "[STEP: 9600] \t| Valid Loss: 0.026776 \t| Hole Loss: 0.025003 \t| Total Loss: 3.333781\n"
     ]
    },
    {
     "name": "stderr",
     "output_type": "stream",
     "text": [
      "Progress:  10%|▉         | 9701/100000 [44:42<6:51:03,  3.66step/s]"
     ]
    },
    {
     "name": "stdout",
     "output_type": "stream",
     "text": [
      "[STEP: 9700] \t| Valid Loss: 0.022049 \t| Hole Loss: 0.023127 \t| Total Loss: 3.580024\n"
     ]
    },
    {
     "name": "stderr",
     "output_type": "stream",
     "text": [
      "Progress:  10%|▉         | 9801/100000 [45:09<6:51:45,  3.65step/s]"
     ]
    },
    {
     "name": "stdout",
     "output_type": "stream",
     "text": [
      "[STEP: 9800] \t| Valid Loss: 0.024553 \t| Hole Loss: 0.031110 \t| Total Loss: 3.518399\n"
     ]
    },
    {
     "name": "stderr",
     "output_type": "stream",
     "text": [
      "Progress:  10%|▉         | 9901/100000 [45:37<6:58:31,  3.59step/s]"
     ]
    },
    {
     "name": "stdout",
     "output_type": "stream",
     "text": [
      "[STEP: 9900] \t| Valid Loss: 0.019786 \t| Hole Loss: 0.022077 \t| Total Loss: 3.944866\n"
     ]
    },
    {
     "name": "stderr",
     "output_type": "stream",
     "text": [
      "Progress:  10%|█         | 10000/100000 [46:04<6:55:02,  3.61step/s]"
     ]
    },
    {
     "name": "stdout",
     "output_type": "stream",
     "text": [
      "[STEP: 10000] \t| Valid Loss: 0.020896 \t| Hole Loss: 0.025002 \t| Total Loss: 3.364516\n",
      "- Evaluation at [STEP: 10000] ...\n",
      "> Average PSNR: 20.999239, SSIM: 0.851470\n",
      "> Total Loss: 5.248977\n",
      "- Checkpoint at [STEP: 10000] ...\n"
     ]
    },
    {
     "name": "stderr",
     "output_type": "stream",
     "text": [
      "Progress:  10%|█         | 10101/100000 [46:33<6:56:08,  3.60step/s]"
     ]
    },
    {
     "name": "stdout",
     "output_type": "stream",
     "text": [
      "[STEP: 10100] \t| Valid Loss: 0.023020 \t| Hole Loss: 0.027240 \t| Total Loss: 3.686281\n"
     ]
    },
    {
     "name": "stderr",
     "output_type": "stream",
     "text": [
      "Progress:  10%|█         | 10201/100000 [47:01<6:50:43,  3.64step/s]"
     ]
    },
    {
     "name": "stdout",
     "output_type": "stream",
     "text": [
      "[STEP: 10200] \t| Valid Loss: 0.020607 \t| Hole Loss: 0.019445 \t| Total Loss: 2.561368\n"
     ]
    },
    {
     "name": "stderr",
     "output_type": "stream",
     "text": [
      "Progress:  10%|█         | 10301/100000 [47:29<6:52:58,  3.62step/s]"
     ]
    },
    {
     "name": "stdout",
     "output_type": "stream",
     "text": [
      "[STEP: 10300] \t| Valid Loss: 0.021212 \t| Hole Loss: 0.021431 \t| Total Loss: 3.189667\n"
     ]
    },
    {
     "name": "stderr",
     "output_type": "stream",
     "text": [
      "Progress:  10%|█         | 10401/100000 [47:56<6:51:41,  3.63step/s]"
     ]
    },
    {
     "name": "stdout",
     "output_type": "stream",
     "text": [
      "[STEP: 10400] \t| Valid Loss: 0.022491 \t| Hole Loss: 0.023052 \t| Total Loss: 3.175227\n"
     ]
    },
    {
     "name": "stderr",
     "output_type": "stream",
     "text": [
      "Progress:  11%|█         | 10501/100000 [48:23<6:48:51,  3.65step/s]"
     ]
    },
    {
     "name": "stdout",
     "output_type": "stream",
     "text": [
      "[STEP: 10500] \t| Valid Loss: 0.018051 \t| Hole Loss: 0.018685 \t| Total Loss: 2.652426\n"
     ]
    },
    {
     "name": "stderr",
     "output_type": "stream",
     "text": [
      "Progress:  11%|█         | 10601/100000 [48:51<6:49:46,  3.64step/s]"
     ]
    },
    {
     "name": "stdout",
     "output_type": "stream",
     "text": [
      "[STEP: 10600] \t| Valid Loss: 0.024153 \t| Hole Loss: 0.025672 \t| Total Loss: 3.774766\n"
     ]
    },
    {
     "name": "stderr",
     "output_type": "stream",
     "text": [
      "Progress:  11%|█         | 10701/100000 [49:18<6:49:43,  3.63step/s]"
     ]
    },
    {
     "name": "stdout",
     "output_type": "stream",
     "text": [
      "[STEP: 10700] \t| Valid Loss: 0.017974 \t| Hole Loss: 0.019085 \t| Total Loss: 2.711444\n"
     ]
    },
    {
     "name": "stderr",
     "output_type": "stream",
     "text": [
      "Progress:  11%|█         | 10801/100000 [49:46<6:53:05,  3.60step/s]"
     ]
    },
    {
     "name": "stdout",
     "output_type": "stream",
     "text": [
      "[STEP: 10800] \t| Valid Loss: 0.025070 \t| Hole Loss: 0.032408 \t| Total Loss: 3.416420\n"
     ]
    },
    {
     "name": "stderr",
     "output_type": "stream",
     "text": [
      "Progress:  11%|█         | 10901/100000 [50:13<6:51:05,  3.61step/s]"
     ]
    },
    {
     "name": "stdout",
     "output_type": "stream",
     "text": [
      "[STEP: 10900] \t| Valid Loss: 0.019489 \t| Hole Loss: 0.022215 \t| Total Loss: 3.051481\n"
     ]
    },
    {
     "name": "stderr",
     "output_type": "stream",
     "text": [
      "Progress:  11%|█         | 11001/100000 [50:41<6:55:14,  3.57step/s]"
     ]
    },
    {
     "name": "stdout",
     "output_type": "stream",
     "text": [
      "[STEP: 11000] \t| Valid Loss: 0.018712 \t| Hole Loss: 0.019637 \t| Total Loss: 3.163270\n"
     ]
    },
    {
     "name": "stderr",
     "output_type": "stream",
     "text": [
      "Progress:  11%|█         | 11101/100000 [51:08<6:47:51,  3.63step/s]"
     ]
    },
    {
     "name": "stdout",
     "output_type": "stream",
     "text": [
      "[STEP: 11100] \t| Valid Loss: 0.016690 \t| Hole Loss: 0.017352 \t| Total Loss: 2.272765\n"
     ]
    },
    {
     "name": "stderr",
     "output_type": "stream",
     "text": [
      "Progress:  11%|█         | 11201/100000 [51:36<6:43:20,  3.67step/s]"
     ]
    },
    {
     "name": "stdout",
     "output_type": "stream",
     "text": [
      "[STEP: 11200] \t| Valid Loss: 0.019335 \t| Hole Loss: 0.016108 \t| Total Loss: 3.044565\n"
     ]
    },
    {
     "name": "stderr",
     "output_type": "stream",
     "text": [
      "Progress:  11%|█▏        | 11301/100000 [52:03<6:42:33,  3.67step/s]"
     ]
    },
    {
     "name": "stdout",
     "output_type": "stream",
     "text": [
      "[STEP: 11300] \t| Valid Loss: 0.023671 \t| Hole Loss: 0.025209 \t| Total Loss: 3.246069\n"
     ]
    },
    {
     "name": "stderr",
     "output_type": "stream",
     "text": [
      "Progress:  11%|█▏        | 11401/100000 [52:30<6:41:03,  3.68step/s]"
     ]
    },
    {
     "name": "stdout",
     "output_type": "stream",
     "text": [
      "[STEP: 11400] \t| Valid Loss: 0.022349 \t| Hole Loss: 0.027010 \t| Total Loss: 3.707932\n"
     ]
    },
    {
     "name": "stderr",
     "output_type": "stream",
     "text": [
      "Progress:  12%|█▏        | 11501/100000 [52:58<6:43:33,  3.66step/s]"
     ]
    },
    {
     "name": "stdout",
     "output_type": "stream",
     "text": [
      "[STEP: 11500] \t| Valid Loss: 0.027275 \t| Hole Loss: 0.024990 \t| Total Loss: 3.734775\n"
     ]
    },
    {
     "name": "stderr",
     "output_type": "stream",
     "text": [
      "Progress:  12%|█▏        | 11601/100000 [53:25<6:49:16,  3.60step/s]"
     ]
    },
    {
     "name": "stdout",
     "output_type": "stream",
     "text": [
      "[STEP: 11600] \t| Valid Loss: 0.019974 \t| Hole Loss: 0.021319 \t| Total Loss: 3.192962\n"
     ]
    },
    {
     "name": "stderr",
     "output_type": "stream",
     "text": [
      "Progress:  12%|█▏        | 11701/100000 [53:53<6:41:03,  3.67step/s]"
     ]
    },
    {
     "name": "stdout",
     "output_type": "stream",
     "text": [
      "[STEP: 11700] \t| Valid Loss: 0.021770 \t| Hole Loss: 0.024590 \t| Total Loss: 3.254837\n"
     ]
    },
    {
     "name": "stderr",
     "output_type": "stream",
     "text": [
      "Progress:  12%|█▏        | 11801/100000 [54:20<6:42:07,  3.66step/s]"
     ]
    },
    {
     "name": "stdout",
     "output_type": "stream",
     "text": [
      "[STEP: 11800] \t| Valid Loss: 0.021730 \t| Hole Loss: 0.016334 \t| Total Loss: 2.660533\n"
     ]
    },
    {
     "name": "stderr",
     "output_type": "stream",
     "text": [
      "Progress:  12%|█▏        | 11901/100000 [54:48<6:49:09,  3.59step/s]"
     ]
    },
    {
     "name": "stdout",
     "output_type": "stream",
     "text": [
      "[STEP: 11900] \t| Valid Loss: 0.017723 \t| Hole Loss: 0.020823 \t| Total Loss: 3.022964\n"
     ]
    },
    {
     "name": "stderr",
     "output_type": "stream",
     "text": [
      "Progress:  12%|█▏        | 12000/100000 [55:15<6:39:49,  3.67step/s]"
     ]
    },
    {
     "name": "stdout",
     "output_type": "stream",
     "text": [
      "[STEP: 12000] \t| Valid Loss: 0.021697 \t| Hole Loss: 0.022267 \t| Total Loss: 3.767796\n",
      "- Evaluation at [STEP: 12000] ...\n",
      "> Average PSNR: 21.205422, SSIM: 0.851968\n"
     ]
    },
    {
     "name": "stderr",
     "output_type": "stream",
     "text": [
      "Progress:  12%|█▏        | 12001/100000 [55:16<15:36:08,  1.57step/s]"
     ]
    },
    {
     "name": "stdout",
     "output_type": "stream",
     "text": [
      "> Total Loss: 4.716685\n"
     ]
    },
    {
     "name": "stderr",
     "output_type": "stream",
     "text": [
      "Progress:  12%|█▏        | 12101/100000 [55:44<6:44:04,  3.63step/s]"
     ]
    },
    {
     "name": "stdout",
     "output_type": "stream",
     "text": [
      "[STEP: 12100] \t| Valid Loss: 0.021980 \t| Hole Loss: 0.022436 \t| Total Loss: 3.554082\n"
     ]
    },
    {
     "name": "stderr",
     "output_type": "stream",
     "text": [
      "Progress:  12%|█▏        | 12201/100000 [56:11<6:46:37,  3.60step/s]"
     ]
    },
    {
     "name": "stdout",
     "output_type": "stream",
     "text": [
      "[STEP: 12200] \t| Valid Loss: 0.018888 \t| Hole Loss: 0.029800 \t| Total Loss: 3.319768\n"
     ]
    },
    {
     "name": "stderr",
     "output_type": "stream",
     "text": [
      "Progress:  12%|█▏        | 12301/100000 [56:39<6:44:16,  3.62step/s]"
     ]
    },
    {
     "name": "stdout",
     "output_type": "stream",
     "text": [
      "[STEP: 12300] \t| Valid Loss: 0.021591 \t| Hole Loss: 0.023430 \t| Total Loss: 3.469110\n"
     ]
    },
    {
     "name": "stderr",
     "output_type": "stream",
     "text": [
      "Progress:  12%|█▏        | 12401/100000 [57:06<6:42:33,  3.63step/s]"
     ]
    },
    {
     "name": "stdout",
     "output_type": "stream",
     "text": [
      "[STEP: 12400] \t| Valid Loss: 0.015701 \t| Hole Loss: 0.020865 \t| Total Loss: 2.560989\n"
     ]
    },
    {
     "name": "stderr",
     "output_type": "stream",
     "text": [
      "Progress:  13%|█▎        | 12501/100000 [57:34<6:40:36,  3.64step/s]"
     ]
    },
    {
     "name": "stdout",
     "output_type": "stream",
     "text": [
      "[STEP: 12500] \t| Valid Loss: 0.014435 \t| Hole Loss: 0.017510 \t| Total Loss: 2.775240\n"
     ]
    },
    {
     "name": "stderr",
     "output_type": "stream",
     "text": [
      "Progress:  13%|█▎        | 12601/100000 [58:01<6:39:44,  3.64step/s]"
     ]
    },
    {
     "name": "stdout",
     "output_type": "stream",
     "text": [
      "[STEP: 12600] \t| Valid Loss: 0.021094 \t| Hole Loss: 0.024123 \t| Total Loss: 2.947190\n"
     ]
    },
    {
     "name": "stderr",
     "output_type": "stream",
     "text": [
      "Progress:  13%|█▎        | 12701/100000 [58:29<6:39:29,  3.64step/s]"
     ]
    },
    {
     "name": "stdout",
     "output_type": "stream",
     "text": [
      "[STEP: 12700] \t| Valid Loss: 0.018645 \t| Hole Loss: 0.021692 \t| Total Loss: 3.628291\n"
     ]
    },
    {
     "name": "stderr",
     "output_type": "stream",
     "text": [
      "Progress:  13%|█▎        | 12801/100000 [58:56<6:36:26,  3.67step/s]"
     ]
    },
    {
     "name": "stdout",
     "output_type": "stream",
     "text": [
      "[STEP: 12800] \t| Valid Loss: 0.019948 \t| Hole Loss: 0.018317 \t| Total Loss: 2.273956\n"
     ]
    },
    {
     "name": "stderr",
     "output_type": "stream",
     "text": [
      "Progress:  13%|█▎        | 12901/100000 [59:23<6:40:08,  3.63step/s]"
     ]
    },
    {
     "name": "stdout",
     "output_type": "stream",
     "text": [
      "[STEP: 12900] \t| Valid Loss: 0.015827 \t| Hole Loss: 0.018210 \t| Total Loss: 2.649832\n"
     ]
    },
    {
     "name": "stderr",
     "output_type": "stream",
     "text": [
      "Progress:  13%|█▎        | 13001/100000 [59:51<6:39:14,  3.63step/s]"
     ]
    },
    {
     "name": "stdout",
     "output_type": "stream",
     "text": [
      "[STEP: 13000] \t| Valid Loss: 0.024349 \t| Hole Loss: 0.024263 \t| Total Loss: 3.300788\n"
     ]
    },
    {
     "name": "stderr",
     "output_type": "stream",
     "text": [
      "Progress:  13%|█▎        | 13101/100000 [1:00:18<6:34:23,  3.67step/s]"
     ]
    },
    {
     "name": "stdout",
     "output_type": "stream",
     "text": [
      "[STEP: 13100] \t| Valid Loss: 0.018216 \t| Hole Loss: 0.032141 \t| Total Loss: 4.022728\n"
     ]
    },
    {
     "name": "stderr",
     "output_type": "stream",
     "text": [
      "Progress:  13%|█▎        | 13201/100000 [1:00:46<6:35:24,  3.66step/s]"
     ]
    },
    {
     "name": "stdout",
     "output_type": "stream",
     "text": [
      "[STEP: 13200] \t| Valid Loss: 0.019320 \t| Hole Loss: 0.022718 \t| Total Loss: 3.446771\n"
     ]
    },
    {
     "name": "stderr",
     "output_type": "stream",
     "text": [
      "Progress:  13%|█▎        | 13301/100000 [1:01:13<6:35:02,  3.66step/s]"
     ]
    },
    {
     "name": "stdout",
     "output_type": "stream",
     "text": [
      "[STEP: 13300] \t| Valid Loss: 0.018453 \t| Hole Loss: 0.025382 \t| Total Loss: 3.219228\n"
     ]
    },
    {
     "name": "stderr",
     "output_type": "stream",
     "text": [
      "Progress:  13%|█▎        | 13401/100000 [1:01:41<6:33:51,  3.66step/s]"
     ]
    },
    {
     "name": "stdout",
     "output_type": "stream",
     "text": [
      "[STEP: 13400] \t| Valid Loss: 0.017151 \t| Hole Loss: 0.016859 \t| Total Loss: 2.234271\n"
     ]
    },
    {
     "name": "stderr",
     "output_type": "stream",
     "text": [
      "Progress:  14%|█▎        | 13501/100000 [1:02:08<6:38:23,  3.62step/s]"
     ]
    },
    {
     "name": "stdout",
     "output_type": "stream",
     "text": [
      "[STEP: 13500] \t| Valid Loss: 0.019615 \t| Hole Loss: 0.023305 \t| Total Loss: 3.145909\n"
     ]
    },
    {
     "name": "stderr",
     "output_type": "stream",
     "text": [
      "Progress:  14%|█▎        | 13601/100000 [1:02:36<6:32:30,  3.67step/s]"
     ]
    },
    {
     "name": "stdout",
     "output_type": "stream",
     "text": [
      "[STEP: 13600] \t| Valid Loss: 0.019282 \t| Hole Loss: 0.025824 \t| Total Loss: 3.629789\n"
     ]
    },
    {
     "name": "stderr",
     "output_type": "stream",
     "text": [
      "Progress:  14%|█▎        | 13701/100000 [1:03:03<6:39:13,  3.60step/s]"
     ]
    },
    {
     "name": "stdout",
     "output_type": "stream",
     "text": [
      "[STEP: 13700] \t| Valid Loss: 0.016144 \t| Hole Loss: 0.014740 \t| Total Loss: 2.270913\n"
     ]
    },
    {
     "name": "stderr",
     "output_type": "stream",
     "text": [
      "Progress:  14%|█▍        | 13801/100000 [1:03:31<6:33:36,  3.65step/s]"
     ]
    },
    {
     "name": "stdout",
     "output_type": "stream",
     "text": [
      "[STEP: 13800] \t| Valid Loss: 0.022031 \t| Hole Loss: 0.019979 \t| Total Loss: 3.039033\n"
     ]
    },
    {
     "name": "stderr",
     "output_type": "stream",
     "text": [
      "Progress:  14%|█▍        | 13901/100000 [1:03:58<6:39:22,  3.59step/s]"
     ]
    },
    {
     "name": "stdout",
     "output_type": "stream",
     "text": [
      "[STEP: 13900] \t| Valid Loss: 0.013517 \t| Hole Loss: 0.017336 \t| Total Loss: 2.423330\n"
     ]
    },
    {
     "name": "stderr",
     "output_type": "stream",
     "text": [
      "Progress:  14%|█▍        | 14000/100000 [1:04:25<6:34:29,  3.63step/s]"
     ]
    },
    {
     "name": "stdout",
     "output_type": "stream",
     "text": [
      "[STEP: 14000] \t| Valid Loss: 0.015945 \t| Hole Loss: 0.019000 \t| Total Loss: 2.274604\n",
      "- Evaluation at [STEP: 14000] ...\n",
      "> Average PSNR: 23.705370, SSIM: 0.881214\n",
      "> Total Loss: 3.340663\n"
     ]
    },
    {
     "name": "stderr",
     "output_type": "stream",
     "text": [
      "Progress:  14%|█▍        | 14001/100000 [1:04:28<23:24:52,  1.02step/s]"
     ]
    },
    {
     "name": "stdout",
     "output_type": "stream",
     "text": [
      "> New best model saved\n"
     ]
    },
    {
     "name": "stderr",
     "output_type": "stream",
     "text": [
      "Progress:  14%|█▍        | 14101/100000 [1:04:55<6:37:53,  3.60step/s]"
     ]
    },
    {
     "name": "stdout",
     "output_type": "stream",
     "text": [
      "[STEP: 14100] \t| Valid Loss: 0.021086 \t| Hole Loss: 0.020580 \t| Total Loss: 3.081096\n"
     ]
    },
    {
     "name": "stderr",
     "output_type": "stream",
     "text": [
      "Progress:  14%|█▍        | 14201/100000 [1:05:23<6:32:54,  3.64step/s]"
     ]
    },
    {
     "name": "stdout",
     "output_type": "stream",
     "text": [
      "[STEP: 14200] \t| Valid Loss: 0.018012 \t| Hole Loss: 0.027470 \t| Total Loss: 3.151810\n"
     ]
    },
    {
     "name": "stderr",
     "output_type": "stream",
     "text": [
      "Progress:  14%|█▍        | 14301/100000 [1:05:50<6:34:41,  3.62step/s]"
     ]
    },
    {
     "name": "stdout",
     "output_type": "stream",
     "text": [
      "[STEP: 14300] \t| Valid Loss: 0.022330 \t| Hole Loss: 0.024068 \t| Total Loss: 3.467305\n"
     ]
    },
    {
     "name": "stderr",
     "output_type": "stream",
     "text": [
      "Progress:  14%|█▍        | 14401/100000 [1:06:18<6:34:32,  3.62step/s]"
     ]
    },
    {
     "name": "stdout",
     "output_type": "stream",
     "text": [
      "[STEP: 14400] \t| Valid Loss: 0.018161 \t| Hole Loss: 0.017149 \t| Total Loss: 2.561253\n"
     ]
    },
    {
     "name": "stderr",
     "output_type": "stream",
     "text": [
      "Progress:  15%|█▍        | 14501/100000 [1:06:45<6:29:39,  3.66step/s]"
     ]
    },
    {
     "name": "stdout",
     "output_type": "stream",
     "text": [
      "[STEP: 14500] \t| Valid Loss: 0.019214 \t| Hole Loss: 0.022971 \t| Total Loss: 3.044473\n"
     ]
    },
    {
     "name": "stderr",
     "output_type": "stream",
     "text": [
      "Progress:  15%|█▍        | 14601/100000 [1:07:13<6:29:30,  3.65step/s]"
     ]
    },
    {
     "name": "stdout",
     "output_type": "stream",
     "text": [
      "[STEP: 14600] \t| Valid Loss: 0.016102 \t| Hole Loss: 0.027620 \t| Total Loss: 3.181806\n"
     ]
    },
    {
     "name": "stderr",
     "output_type": "stream",
     "text": [
      "Progress:  15%|█▍        | 14701/100000 [1:07:40<6:44:11,  3.52step/s]"
     ]
    },
    {
     "name": "stdout",
     "output_type": "stream",
     "text": [
      "[STEP: 14700] \t| Valid Loss: 0.021536 \t| Hole Loss: 0.030257 \t| Total Loss: 5.370173\n"
     ]
    },
    {
     "name": "stderr",
     "output_type": "stream",
     "text": [
      "Progress:  15%|█▍        | 14801/100000 [1:08:07<6:32:12,  3.62step/s]"
     ]
    },
    {
     "name": "stdout",
     "output_type": "stream",
     "text": [
      "[STEP: 14800] \t| Valid Loss: 0.017336 \t| Hole Loss: 0.026660 \t| Total Loss: 4.228123\n"
     ]
    },
    {
     "name": "stderr",
     "output_type": "stream",
     "text": [
      "Progress:  15%|█▍        | 14901/100000 [1:08:35<6:26:22,  3.67step/s]"
     ]
    },
    {
     "name": "stdout",
     "output_type": "stream",
     "text": [
      "[STEP: 14900] \t| Valid Loss: 0.020182 \t| Hole Loss: 0.024176 \t| Total Loss: 3.199030\n"
     ]
    },
    {
     "name": "stderr",
     "output_type": "stream",
     "text": [
      "Progress:  15%|█▌        | 15001/100000 [1:09:02<6:29:14,  3.64step/s]"
     ]
    },
    {
     "name": "stdout",
     "output_type": "stream",
     "text": [
      "[STEP: 15000] \t| Valid Loss: 0.020529 \t| Hole Loss: 0.020934 \t| Total Loss: 2.779328\n"
     ]
    },
    {
     "name": "stderr",
     "output_type": "stream",
     "text": [
      "Progress:  15%|█▌        | 15101/100000 [1:09:30<6:28:42,  3.64step/s]"
     ]
    },
    {
     "name": "stdout",
     "output_type": "stream",
     "text": [
      "[STEP: 15100] \t| Valid Loss: 0.018767 \t| Hole Loss: 0.019651 \t| Total Loss: 3.088283\n"
     ]
    },
    {
     "name": "stderr",
     "output_type": "stream",
     "text": [
      "Progress:  15%|█▌        | 15201/100000 [1:09:57<6:32:45,  3.60step/s]"
     ]
    },
    {
     "name": "stdout",
     "output_type": "stream",
     "text": [
      "[STEP: 15200] \t| Valid Loss: 0.013748 \t| Hole Loss: 0.016757 \t| Total Loss: 2.195186\n"
     ]
    },
    {
     "name": "stderr",
     "output_type": "stream",
     "text": [
      "Progress:  15%|█▌        | 15301/100000 [1:10:25<6:30:42,  3.61step/s]"
     ]
    },
    {
     "name": "stdout",
     "output_type": "stream",
     "text": [
      "[STEP: 15300] \t| Valid Loss: 0.019003 \t| Hole Loss: 0.033235 \t| Total Loss: 3.242246\n"
     ]
    },
    {
     "name": "stderr",
     "output_type": "stream",
     "text": [
      "Progress:  15%|█▌        | 15401/100000 [1:10:52<6:27:07,  3.64step/s]"
     ]
    },
    {
     "name": "stdout",
     "output_type": "stream",
     "text": [
      "[STEP: 15400] \t| Valid Loss: 0.020138 \t| Hole Loss: 0.020864 \t| Total Loss: 2.707810\n"
     ]
    },
    {
     "name": "stderr",
     "output_type": "stream",
     "text": [
      "Progress:  16%|█▌        | 15501/100000 [1:11:19<6:23:55,  3.67step/s]"
     ]
    },
    {
     "name": "stdout",
     "output_type": "stream",
     "text": [
      "[STEP: 15500] \t| Valid Loss: 0.020629 \t| Hole Loss: 0.019998 \t| Total Loss: 3.169102\n"
     ]
    },
    {
     "name": "stderr",
     "output_type": "stream",
     "text": [
      "Progress:  16%|█▌        | 15601/100000 [1:11:47<6:27:42,  3.63step/s]"
     ]
    },
    {
     "name": "stdout",
     "output_type": "stream",
     "text": [
      "[STEP: 15600] \t| Valid Loss: 0.017500 \t| Hole Loss: 0.023183 \t| Total Loss: 3.070028\n"
     ]
    },
    {
     "name": "stderr",
     "output_type": "stream",
     "text": [
      "Progress:  16%|█▌        | 15701/100000 [1:12:14<6:23:45,  3.66step/s]"
     ]
    },
    {
     "name": "stdout",
     "output_type": "stream",
     "text": [
      "[STEP: 15700] \t| Valid Loss: 0.019531 \t| Hole Loss: 0.022182 \t| Total Loss: 3.230644\n"
     ]
    },
    {
     "name": "stderr",
     "output_type": "stream",
     "text": [
      "Progress:  16%|█▌        | 15801/100000 [1:12:42<6:23:36,  3.66step/s]"
     ]
    },
    {
     "name": "stdout",
     "output_type": "stream",
     "text": [
      "[STEP: 15800] \t| Valid Loss: 0.017482 \t| Hole Loss: 0.019362 \t| Total Loss: 3.046089\n"
     ]
    },
    {
     "name": "stderr",
     "output_type": "stream",
     "text": [
      "Progress:  16%|█▌        | 15901/100000 [1:13:09<6:23:03,  3.66step/s]"
     ]
    },
    {
     "name": "stdout",
     "output_type": "stream",
     "text": [
      "[STEP: 15900] \t| Valid Loss: 0.020646 \t| Hole Loss: 0.018802 \t| Total Loss: 2.458047\n"
     ]
    },
    {
     "name": "stderr",
     "output_type": "stream",
     "text": [
      "Progress:  16%|█▌        | 16000/100000 [1:13:36<6:20:19,  3.68step/s]"
     ]
    },
    {
     "name": "stdout",
     "output_type": "stream",
     "text": [
      "[STEP: 16000] \t| Valid Loss: 0.020604 \t| Hole Loss: 0.026204 \t| Total Loss: 4.056538\n",
      "- Evaluation at [STEP: 16000] ...\n",
      "> Average PSNR: 22.588904, SSIM: 0.876085\n"
     ]
    },
    {
     "name": "stderr",
     "output_type": "stream",
     "text": [
      "Progress:  16%|█▌        | 16001/100000 [1:13:38<15:07:46,  1.54step/s]"
     ]
    },
    {
     "name": "stdout",
     "output_type": "stream",
     "text": [
      "> Total Loss: 3.564697\n"
     ]
    },
    {
     "name": "stderr",
     "output_type": "stream",
     "text": [
      "Progress:  16%|█▌        | 16101/100000 [1:14:05<6:27:56,  3.60step/s]"
     ]
    },
    {
     "name": "stdout",
     "output_type": "stream",
     "text": [
      "[STEP: 16100] \t| Valid Loss: 0.016294 \t| Hole Loss: 0.021418 \t| Total Loss: 2.644934\n"
     ]
    },
    {
     "name": "stderr",
     "output_type": "stream",
     "text": [
      "Progress:  16%|█▌        | 16201/100000 [1:14:33<6:28:52,  3.59step/s]"
     ]
    },
    {
     "name": "stdout",
     "output_type": "stream",
     "text": [
      "[STEP: 16200] \t| Valid Loss: 0.020252 \t| Hole Loss: 0.022758 \t| Total Loss: 3.244153\n"
     ]
    },
    {
     "name": "stderr",
     "output_type": "stream",
     "text": [
      "Progress:  16%|█▋        | 16301/100000 [1:15:00<6:21:06,  3.66step/s]"
     ]
    },
    {
     "name": "stdout",
     "output_type": "stream",
     "text": [
      "[STEP: 16300] \t| Valid Loss: 0.015615 \t| Hole Loss: 0.016215 \t| Total Loss: 2.597342\n"
     ]
    },
    {
     "name": "stderr",
     "output_type": "stream",
     "text": [
      "Progress:  16%|█▋        | 16401/100000 [1:15:28<6:21:21,  3.65step/s]"
     ]
    },
    {
     "name": "stdout",
     "output_type": "stream",
     "text": [
      "[STEP: 16400] \t| Valid Loss: 0.017740 \t| Hole Loss: 0.020914 \t| Total Loss: 2.700975\n"
     ]
    },
    {
     "name": "stderr",
     "output_type": "stream",
     "text": [
      "Progress:  17%|█▋        | 16501/100000 [1:15:55<6:25:24,  3.61step/s]"
     ]
    },
    {
     "name": "stdout",
     "output_type": "stream",
     "text": [
      "[STEP: 16500] \t| Valid Loss: 0.015557 \t| Hole Loss: 0.021484 \t| Total Loss: 2.670195\n"
     ]
    },
    {
     "name": "stderr",
     "output_type": "stream",
     "text": [
      "Progress:  17%|█▋        | 16601/100000 [1:16:23<6:20:28,  3.65step/s]"
     ]
    },
    {
     "name": "stdout",
     "output_type": "stream",
     "text": [
      "[STEP: 16600] \t| Valid Loss: 0.019090 \t| Hole Loss: 0.022537 \t| Total Loss: 3.110789\n"
     ]
    },
    {
     "name": "stderr",
     "output_type": "stream",
     "text": [
      "Progress:  17%|█▋        | 16701/100000 [1:16:50<6:24:15,  3.61step/s]"
     ]
    },
    {
     "name": "stdout",
     "output_type": "stream",
     "text": [
      "[STEP: 16700] \t| Valid Loss: 0.016145 \t| Hole Loss: 0.027813 \t| Total Loss: 3.611169\n"
     ]
    },
    {
     "name": "stderr",
     "output_type": "stream",
     "text": [
      "Progress:  17%|█▋        | 16801/100000 [1:17:18<6:22:10,  3.63step/s]"
     ]
    },
    {
     "name": "stdout",
     "output_type": "stream",
     "text": [
      "[STEP: 16800] \t| Valid Loss: 0.018328 \t| Hole Loss: 0.020573 \t| Total Loss: 3.389179\n"
     ]
    },
    {
     "name": "stderr",
     "output_type": "stream",
     "text": [
      "Progress:  17%|█▋        | 16901/100000 [1:17:45<6:20:29,  3.64step/s]"
     ]
    },
    {
     "name": "stdout",
     "output_type": "stream",
     "text": [
      "[STEP: 16900] \t| Valid Loss: 0.012567 \t| Hole Loss: 0.019880 \t| Total Loss: 2.270140\n"
     ]
    },
    {
     "name": "stderr",
     "output_type": "stream",
     "text": [
      "Progress:  17%|█▋        | 17001/100000 [1:18:13<6:20:09,  3.64step/s]"
     ]
    },
    {
     "name": "stdout",
     "output_type": "stream",
     "text": [
      "[STEP: 17000] \t| Valid Loss: 0.017958 \t| Hole Loss: 0.025281 \t| Total Loss: 3.993211\n"
     ]
    },
    {
     "name": "stderr",
     "output_type": "stream",
     "text": [
      "Progress:  17%|█▋        | 17101/100000 [1:18:40<6:22:16,  3.61step/s]"
     ]
    },
    {
     "name": "stdout",
     "output_type": "stream",
     "text": [
      "[STEP: 17100] \t| Valid Loss: 0.021762 \t| Hole Loss: 0.017644 \t| Total Loss: 2.572468\n"
     ]
    },
    {
     "name": "stderr",
     "output_type": "stream",
     "text": [
      "Progress:  17%|█▋        | 17201/100000 [1:19:08<6:16:54,  3.66step/s]"
     ]
    },
    {
     "name": "stdout",
     "output_type": "stream",
     "text": [
      "[STEP: 17200] \t| Valid Loss: 0.017787 \t| Hole Loss: 0.017064 \t| Total Loss: 2.478786\n"
     ]
    },
    {
     "name": "stderr",
     "output_type": "stream",
     "text": [
      "Progress:  17%|█▋        | 17301/100000 [1:19:35<6:17:10,  3.65step/s]"
     ]
    },
    {
     "name": "stdout",
     "output_type": "stream",
     "text": [
      "[STEP: 17300] \t| Valid Loss: 0.014739 \t| Hole Loss: 0.018611 \t| Total Loss: 2.428208\n"
     ]
    },
    {
     "name": "stderr",
     "output_type": "stream",
     "text": [
      "Progress:  17%|█▋        | 17401/100000 [1:20:02<6:19:46,  3.62step/s]"
     ]
    },
    {
     "name": "stdout",
     "output_type": "stream",
     "text": [
      "[STEP: 17400] \t| Valid Loss: 0.016495 \t| Hole Loss: 0.023219 \t| Total Loss: 2.687723\n"
     ]
    },
    {
     "name": "stderr",
     "output_type": "stream",
     "text": [
      "Progress:  18%|█▊        | 17501/100000 [1:20:30<6:14:12,  3.67step/s]"
     ]
    },
    {
     "name": "stdout",
     "output_type": "stream",
     "text": [
      "[STEP: 17500] \t| Valid Loss: 0.015496 \t| Hole Loss: 0.017485 \t| Total Loss: 2.507743\n"
     ]
    },
    {
     "name": "stderr",
     "output_type": "stream",
     "text": [
      "Progress:  18%|█▊        | 17601/100000 [1:20:57<6:15:02,  3.66step/s]"
     ]
    },
    {
     "name": "stdout",
     "output_type": "stream",
     "text": [
      "[STEP: 17600] \t| Valid Loss: 0.015774 \t| Hole Loss: 0.016595 \t| Total Loss: 2.283075\n"
     ]
    },
    {
     "name": "stderr",
     "output_type": "stream",
     "text": [
      "Progress:  18%|█▊        | 17701/100000 [1:21:25<6:23:27,  3.58step/s]"
     ]
    },
    {
     "name": "stdout",
     "output_type": "stream",
     "text": [
      "[STEP: 17700] \t| Valid Loss: 0.018078 \t| Hole Loss: 0.023213 \t| Total Loss: 3.465807\n"
     ]
    },
    {
     "name": "stderr",
     "output_type": "stream",
     "text": [
      "Progress:  18%|█▊        | 17801/100000 [1:21:52<6:14:13,  3.66step/s]"
     ]
    },
    {
     "name": "stdout",
     "output_type": "stream",
     "text": [
      "[STEP: 17800] \t| Valid Loss: 0.014403 \t| Hole Loss: 0.020738 \t| Total Loss: 2.908181\n"
     ]
    },
    {
     "name": "stderr",
     "output_type": "stream",
     "text": [
      "Progress:  18%|█▊        | 17901/100000 [1:22:20<6:11:23,  3.68step/s]"
     ]
    },
    {
     "name": "stdout",
     "output_type": "stream",
     "text": [
      "[STEP: 17900] \t| Valid Loss: 0.017316 \t| Hole Loss: 0.026197 \t| Total Loss: 3.241685\n"
     ]
    },
    {
     "name": "stderr",
     "output_type": "stream",
     "text": [
      "Progress:  18%|█▊        | 18000/100000 [1:22:47<6:16:39,  3.63step/s]"
     ]
    },
    {
     "name": "stdout",
     "output_type": "stream",
     "text": [
      "[STEP: 18000] \t| Valid Loss: 0.017452 \t| Hole Loss: 0.025073 \t| Total Loss: 3.458665\n",
      "- Evaluation at [STEP: 18000] ...\n",
      "> Average PSNR: 23.449262, SSIM: 0.884007\n",
      "> Total Loss: 3.044914\n"
     ]
    },
    {
     "name": "stderr",
     "output_type": "stream",
     "text": [
      "Progress:  18%|█▊        | 18001/100000 [1:22:49<22:03:08,  1.03step/s]"
     ]
    },
    {
     "name": "stdout",
     "output_type": "stream",
     "text": [
      "> New best model saved\n"
     ]
    },
    {
     "name": "stderr",
     "output_type": "stream",
     "text": [
      "Progress:  18%|█▊        | 18101/100000 [1:23:17<6:17:26,  3.62step/s]"
     ]
    },
    {
     "name": "stdout",
     "output_type": "stream",
     "text": [
      "[STEP: 18100] \t| Valid Loss: 0.016550 \t| Hole Loss: 0.024340 \t| Total Loss: 3.057737\n"
     ]
    },
    {
     "name": "stderr",
     "output_type": "stream",
     "text": [
      "Progress:  18%|█▊        | 18201/100000 [1:23:44<6:15:08,  3.63step/s]"
     ]
    },
    {
     "name": "stdout",
     "output_type": "stream",
     "text": [
      "[STEP: 18200] \t| Valid Loss: 0.015530 \t| Hole Loss: 0.022325 \t| Total Loss: 2.837997\n"
     ]
    },
    {
     "name": "stderr",
     "output_type": "stream",
     "text": [
      "Progress:  18%|█▊        | 18301/100000 [1:24:12<6:16:05,  3.62step/s]"
     ]
    },
    {
     "name": "stdout",
     "output_type": "stream",
     "text": [
      "[STEP: 18300] \t| Valid Loss: 0.014211 \t| Hole Loss: 0.024126 \t| Total Loss: 3.228456\n"
     ]
    },
    {
     "name": "stderr",
     "output_type": "stream",
     "text": [
      "Progress:  18%|█▊        | 18401/100000 [1:24:39<6:10:47,  3.67step/s]"
     ]
    },
    {
     "name": "stdout",
     "output_type": "stream",
     "text": [
      "[STEP: 18400] \t| Valid Loss: 0.019851 \t| Hole Loss: 0.021994 \t| Total Loss: 2.723657\n"
     ]
    },
    {
     "name": "stderr",
     "output_type": "stream",
     "text": [
      "Progress:  19%|█▊        | 18501/100000 [1:25:07<6:26:14,  3.52step/s]"
     ]
    },
    {
     "name": "stdout",
     "output_type": "stream",
     "text": [
      "[STEP: 18500] \t| Valid Loss: 0.016988 \t| Hole Loss: 0.022212 \t| Total Loss: 3.087081\n"
     ]
    },
    {
     "name": "stderr",
     "output_type": "stream",
     "text": [
      "Progress:  19%|█▊        | 18601/100000 [1:25:34<6:09:04,  3.68step/s]"
     ]
    },
    {
     "name": "stdout",
     "output_type": "stream",
     "text": [
      "[STEP: 18600] \t| Valid Loss: 0.017962 \t| Hole Loss: 0.022447 \t| Total Loss: 3.227643\n"
     ]
    },
    {
     "name": "stderr",
     "output_type": "stream",
     "text": [
      "Progress:  19%|█▊        | 18701/100000 [1:26:02<6:10:03,  3.66step/s]"
     ]
    },
    {
     "name": "stdout",
     "output_type": "stream",
     "text": [
      "[STEP: 18700] \t| Valid Loss: 0.017334 \t| Hole Loss: 0.016626 \t| Total Loss: 2.112894\n"
     ]
    },
    {
     "name": "stderr",
     "output_type": "stream",
     "text": [
      "Progress:  19%|█▉        | 18801/100000 [1:26:29<6:12:23,  3.63step/s]"
     ]
    },
    {
     "name": "stdout",
     "output_type": "stream",
     "text": [
      "[STEP: 18800] \t| Valid Loss: 0.017169 \t| Hole Loss: 0.025133 \t| Total Loss: 2.820264\n"
     ]
    },
    {
     "name": "stderr",
     "output_type": "stream",
     "text": [
      "Progress:  19%|█▉        | 18901/100000 [1:26:56<6:09:58,  3.65step/s]"
     ]
    },
    {
     "name": "stdout",
     "output_type": "stream",
     "text": [
      "[STEP: 18900] \t| Valid Loss: 0.015278 \t| Hole Loss: 0.020832 \t| Total Loss: 2.504523\n"
     ]
    },
    {
     "name": "stderr",
     "output_type": "stream",
     "text": [
      "Progress:  19%|█▉        | 19001/100000 [1:27:24<6:07:30,  3.67step/s]"
     ]
    },
    {
     "name": "stdout",
     "output_type": "stream",
     "text": [
      "[STEP: 19000] \t| Valid Loss: 0.013074 \t| Hole Loss: 0.014526 \t| Total Loss: 2.167221\n"
     ]
    },
    {
     "name": "stderr",
     "output_type": "stream",
     "text": [
      "Progress:  19%|█▉        | 19101/100000 [1:27:51<6:07:44,  3.67step/s]"
     ]
    },
    {
     "name": "stdout",
     "output_type": "stream",
     "text": [
      "[STEP: 19100] \t| Valid Loss: 0.016359 \t| Hole Loss: 0.025202 \t| Total Loss: 3.426413\n"
     ]
    },
    {
     "name": "stderr",
     "output_type": "stream",
     "text": [
      "Progress:  19%|█▉        | 19201/100000 [1:28:19<6:08:36,  3.65step/s]"
     ]
    },
    {
     "name": "stdout",
     "output_type": "stream",
     "text": [
      "[STEP: 19200] \t| Valid Loss: 0.015912 \t| Hole Loss: 0.019997 \t| Total Loss: 2.522480\n"
     ]
    },
    {
     "name": "stderr",
     "output_type": "stream",
     "text": [
      "Progress:  19%|█▉        | 19301/100000 [1:28:46<6:06:12,  3.67step/s]"
     ]
    },
    {
     "name": "stdout",
     "output_type": "stream",
     "text": [
      "[STEP: 19300] \t| Valid Loss: 0.014136 \t| Hole Loss: 0.021311 \t| Total Loss: 2.382194\n"
     ]
    },
    {
     "name": "stderr",
     "output_type": "stream",
     "text": [
      "Progress:  19%|█▉        | 19401/100000 [1:29:13<6:06:11,  3.67step/s]"
     ]
    },
    {
     "name": "stdout",
     "output_type": "stream",
     "text": [
      "[STEP: 19400] \t| Valid Loss: 0.023676 \t| Hole Loss: 0.023419 \t| Total Loss: 3.889558\n"
     ]
    },
    {
     "name": "stderr",
     "output_type": "stream",
     "text": [
      "Progress:  20%|█▉        | 19501/100000 [1:29:41<6:11:04,  3.62step/s]"
     ]
    },
    {
     "name": "stdout",
     "output_type": "stream",
     "text": [
      "[STEP: 19500] \t| Valid Loss: 0.013624 \t| Hole Loss: 0.019157 \t| Total Loss: 2.747520\n"
     ]
    },
    {
     "name": "stderr",
     "output_type": "stream",
     "text": [
      "Progress:  20%|█▉        | 19601/100000 [1:30:08<6:09:06,  3.63step/s]"
     ]
    },
    {
     "name": "stdout",
     "output_type": "stream",
     "text": [
      "[STEP: 19600] \t| Valid Loss: 0.018779 \t| Hole Loss: 0.029872 \t| Total Loss: 3.183553\n"
     ]
    },
    {
     "name": "stderr",
     "output_type": "stream",
     "text": [
      "Progress:  20%|█▉        | 19701/100000 [1:30:36<6:05:27,  3.66step/s]"
     ]
    },
    {
     "name": "stdout",
     "output_type": "stream",
     "text": [
      "[STEP: 19700] \t| Valid Loss: 0.016472 \t| Hole Loss: 0.022781 \t| Total Loss: 3.452258\n"
     ]
    },
    {
     "name": "stderr",
     "output_type": "stream",
     "text": [
      "Progress:  20%|█▉        | 19801/100000 [1:31:03<6:13:10,  3.58step/s]"
     ]
    },
    {
     "name": "stdout",
     "output_type": "stream",
     "text": [
      "[STEP: 19800] \t| Valid Loss: 0.015020 \t| Hole Loss: 0.017466 \t| Total Loss: 2.419402\n"
     ]
    },
    {
     "name": "stderr",
     "output_type": "stream",
     "text": [
      "Progress:  20%|█▉        | 19901/100000 [1:31:31<6:08:49,  3.62step/s]"
     ]
    },
    {
     "name": "stdout",
     "output_type": "stream",
     "text": [
      "[STEP: 19900] \t| Valid Loss: 0.017040 \t| Hole Loss: 0.025167 \t| Total Loss: 2.855520\n"
     ]
    },
    {
     "name": "stderr",
     "output_type": "stream",
     "text": [
      "Progress:  20%|██        | 20000/100000 [1:31:58<6:11:44,  3.59step/s]"
     ]
    },
    {
     "name": "stdout",
     "output_type": "stream",
     "text": [
      "[STEP: 20000] \t| Valid Loss: 0.014971 \t| Hole Loss: 0.022172 \t| Total Loss: 2.857839\n",
      "- Evaluation at [STEP: 20000] ...\n",
      "> Average PSNR: 23.407434, SSIM: 0.886395\n",
      "> Total Loss: 3.304018\n",
      "- Checkpoint at [STEP: 20000] ...\n"
     ]
    },
    {
     "name": "stderr",
     "output_type": "stream",
     "text": [
      "Progress:  20%|██        | 20101/100000 [1:32:28<6:04:51,  3.65step/s]"
     ]
    },
    {
     "name": "stdout",
     "output_type": "stream",
     "text": [
      "[STEP: 20100] \t| Valid Loss: 0.014023 \t| Hole Loss: 0.019910 \t| Total Loss: 2.881429\n"
     ]
    },
    {
     "name": "stderr",
     "output_type": "stream",
     "text": [
      "Progress:  20%|██        | 20201/100000 [1:32:56<6:10:38,  3.59step/s]"
     ]
    },
    {
     "name": "stdout",
     "output_type": "stream",
     "text": [
      "[STEP: 20200] \t| Valid Loss: 0.017944 \t| Hole Loss: 0.026841 \t| Total Loss: 3.185854\n"
     ]
    },
    {
     "name": "stderr",
     "output_type": "stream",
     "text": [
      "Progress:  20%|██        | 20301/100000 [1:33:24<6:07:49,  3.61step/s]"
     ]
    },
    {
     "name": "stdout",
     "output_type": "stream",
     "text": [
      "[STEP: 20300] \t| Valid Loss: 0.016392 \t| Hole Loss: 0.021646 \t| Total Loss: 2.649866\n"
     ]
    },
    {
     "name": "stderr",
     "output_type": "stream",
     "text": [
      "Progress:  20%|██        | 20401/100000 [1:33:52<6:08:19,  3.60step/s]"
     ]
    },
    {
     "name": "stdout",
     "output_type": "stream",
     "text": [
      "[STEP: 20400] \t| Valid Loss: 0.015411 \t| Hole Loss: 0.030284 \t| Total Loss: 3.581755\n"
     ]
    },
    {
     "name": "stderr",
     "output_type": "stream",
     "text": [
      "Progress:  21%|██        | 20501/100000 [1:34:19<6:07:06,  3.61step/s]"
     ]
    },
    {
     "name": "stdout",
     "output_type": "stream",
     "text": [
      "[STEP: 20500] \t| Valid Loss: 0.014668 \t| Hole Loss: 0.017698 \t| Total Loss: 2.415868\n"
     ]
    },
    {
     "name": "stderr",
     "output_type": "stream",
     "text": [
      "Progress:  21%|██        | 20601/100000 [1:34:48<6:15:38,  3.52step/s]"
     ]
    },
    {
     "name": "stdout",
     "output_type": "stream",
     "text": [
      "[STEP: 20600] \t| Valid Loss: 0.019939 \t| Hole Loss: 0.023503 \t| Total Loss: 3.269865\n"
     ]
    },
    {
     "name": "stderr",
     "output_type": "stream",
     "text": [
      "Progress:  21%|██        | 20701/100000 [1:35:15<6:05:31,  3.62step/s]"
     ]
    },
    {
     "name": "stdout",
     "output_type": "stream",
     "text": [
      "[STEP: 20700] \t| Valid Loss: 0.015300 \t| Hole Loss: 0.028363 \t| Total Loss: 3.261239\n"
     ]
    },
    {
     "name": "stderr",
     "output_type": "stream",
     "text": [
      "Progress:  21%|██        | 20801/100000 [1:35:43<6:14:45,  3.52step/s]"
     ]
    },
    {
     "name": "stdout",
     "output_type": "stream",
     "text": [
      "[STEP: 20800] \t| Valid Loss: 0.015409 \t| Hole Loss: 0.018589 \t| Total Loss: 3.532482\n"
     ]
    },
    {
     "name": "stderr",
     "output_type": "stream",
     "text": [
      "Progress:  21%|██        | 20901/100000 [1:36:11<6:05:01,  3.61step/s]"
     ]
    },
    {
     "name": "stdout",
     "output_type": "stream",
     "text": [
      "[STEP: 20900] \t| Valid Loss: 0.018312 \t| Hole Loss: 0.018849 \t| Total Loss: 2.914444\n"
     ]
    },
    {
     "name": "stderr",
     "output_type": "stream",
     "text": [
      "Progress:  21%|██        | 21001/100000 [1:36:39<6:04:39,  3.61step/s]"
     ]
    },
    {
     "name": "stdout",
     "output_type": "stream",
     "text": [
      "[STEP: 21000] \t| Valid Loss: 0.018755 \t| Hole Loss: 0.019835 \t| Total Loss: 3.107104\n"
     ]
    },
    {
     "name": "stderr",
     "output_type": "stream",
     "text": [
      "Progress:  21%|██        | 21101/100000 [1:37:07<6:08:40,  3.57step/s]"
     ]
    },
    {
     "name": "stdout",
     "output_type": "stream",
     "text": [
      "[STEP: 21100] \t| Valid Loss: 0.016500 \t| Hole Loss: 0.018833 \t| Total Loss: 3.028358\n"
     ]
    },
    {
     "name": "stderr",
     "output_type": "stream",
     "text": [
      "Progress:  21%|██        | 21201/100000 [1:37:35<6:02:05,  3.63step/s]"
     ]
    },
    {
     "name": "stdout",
     "output_type": "stream",
     "text": [
      "[STEP: 21200] \t| Valid Loss: 0.016490 \t| Hole Loss: 0.020900 \t| Total Loss: 2.567184\n"
     ]
    },
    {
     "name": "stderr",
     "output_type": "stream",
     "text": [
      "Progress:  21%|██▏       | 21301/100000 [1:38:02<6:05:51,  3.59step/s]"
     ]
    },
    {
     "name": "stdout",
     "output_type": "stream",
     "text": [
      "[STEP: 21300] \t| Valid Loss: 0.014661 \t| Hole Loss: 0.018549 \t| Total Loss: 2.408987\n"
     ]
    },
    {
     "name": "stderr",
     "output_type": "stream",
     "text": [
      "Progress:  21%|██▏       | 21401/100000 [1:38:30<6:04:10,  3.60step/s]"
     ]
    },
    {
     "name": "stdout",
     "output_type": "stream",
     "text": [
      "[STEP: 21400] \t| Valid Loss: 0.016960 \t| Hole Loss: 0.022599 \t| Total Loss: 3.222507\n"
     ]
    },
    {
     "name": "stderr",
     "output_type": "stream",
     "text": [
      "Progress:  22%|██▏       | 21501/100000 [1:38:58<6:05:23,  3.58step/s]"
     ]
    },
    {
     "name": "stdout",
     "output_type": "stream",
     "text": [
      "[STEP: 21500] \t| Valid Loss: 0.017307 \t| Hole Loss: 0.017693 \t| Total Loss: 2.413442\n"
     ]
    },
    {
     "name": "stderr",
     "output_type": "stream",
     "text": [
      "Progress:  22%|██▏       | 21601/100000 [1:39:26<6:16:27,  3.47step/s]"
     ]
    },
    {
     "name": "stdout",
     "output_type": "stream",
     "text": [
      "[STEP: 21600] \t| Valid Loss: 0.018779 \t| Hole Loss: 0.023040 \t| Total Loss: 3.658403\n"
     ]
    },
    {
     "name": "stderr",
     "output_type": "stream",
     "text": [
      "Progress:  22%|██▏       | 21701/100000 [1:39:53<6:03:14,  3.59step/s]"
     ]
    },
    {
     "name": "stdout",
     "output_type": "stream",
     "text": [
      "[STEP: 21700] \t| Valid Loss: 0.017655 \t| Hole Loss: 0.020636 \t| Total Loss: 2.828678\n"
     ]
    },
    {
     "name": "stderr",
     "output_type": "stream",
     "text": [
      "Progress:  22%|██▏       | 21801/100000 [1:40:21<5:57:56,  3.64step/s]"
     ]
    },
    {
     "name": "stdout",
     "output_type": "stream",
     "text": [
      "[STEP: 21800] \t| Valid Loss: 0.016100 \t| Hole Loss: 0.017785 \t| Total Loss: 2.387047\n"
     ]
    },
    {
     "name": "stderr",
     "output_type": "stream",
     "text": [
      "Progress:  22%|██▏       | 21901/100000 [1:40:49<5:57:37,  3.64step/s]"
     ]
    },
    {
     "name": "stdout",
     "output_type": "stream",
     "text": [
      "[STEP: 21900] \t| Valid Loss: 0.015969 \t| Hole Loss: 0.020205 \t| Total Loss: 2.540556\n"
     ]
    },
    {
     "name": "stderr",
     "output_type": "stream",
     "text": [
      "Progress:  22%|██▏       | 22000/100000 [1:41:16<5:57:16,  3.64step/s]"
     ]
    },
    {
     "name": "stdout",
     "output_type": "stream",
     "text": [
      "[STEP: 22000] \t| Valid Loss: 0.015555 \t| Hole Loss: 0.022834 \t| Total Loss: 2.792668\n",
      "- Evaluation at [STEP: 22000] ...\n",
      "> Average PSNR: 21.881079, SSIM: 0.875775\n"
     ]
    },
    {
     "name": "stderr",
     "output_type": "stream",
     "text": [
      "Progress:  22%|██▏       | 22001/100000 [1:41:18<14:40:24,  1.48step/s]"
     ]
    },
    {
     "name": "stdout",
     "output_type": "stream",
     "text": [
      "> Total Loss: 3.433106\n"
     ]
    },
    {
     "name": "stderr",
     "output_type": "stream",
     "text": [
      "Progress:  22%|██▏       | 22101/100000 [1:41:45<5:56:35,  3.64step/s]"
     ]
    },
    {
     "name": "stdout",
     "output_type": "stream",
     "text": [
      "[STEP: 22100] \t| Valid Loss: 0.014859 \t| Hole Loss: 0.023291 \t| Total Loss: 2.929158\n"
     ]
    },
    {
     "name": "stderr",
     "output_type": "stream",
     "text": [
      "Progress:  22%|██▏       | 22201/100000 [1:42:13<6:01:16,  3.59step/s]"
     ]
    },
    {
     "name": "stdout",
     "output_type": "stream",
     "text": [
      "[STEP: 22200] \t| Valid Loss: 0.015173 \t| Hole Loss: 0.018967 \t| Total Loss: 2.368030\n"
     ]
    },
    {
     "name": "stderr",
     "output_type": "stream",
     "text": [
      "Progress:  22%|██▏       | 22301/100000 [1:42:41<5:55:44,  3.64step/s]"
     ]
    },
    {
     "name": "stdout",
     "output_type": "stream",
     "text": [
      "[STEP: 22300] \t| Valid Loss: 0.015075 \t| Hole Loss: 0.018892 \t| Total Loss: 3.020799\n"
     ]
    },
    {
     "name": "stderr",
     "output_type": "stream",
     "text": [
      "Progress:  22%|██▏       | 22401/100000 [1:43:08<5:59:59,  3.59step/s]"
     ]
    },
    {
     "name": "stdout",
     "output_type": "stream",
     "text": [
      "[STEP: 22400] \t| Valid Loss: 0.015196 \t| Hole Loss: 0.019030 \t| Total Loss: 2.589708\n"
     ]
    },
    {
     "name": "stderr",
     "output_type": "stream",
     "text": [
      "Progress:  23%|██▎       | 22501/100000 [1:43:36<5:59:57,  3.59step/s]"
     ]
    },
    {
     "name": "stdout",
     "output_type": "stream",
     "text": [
      "[STEP: 22500] \t| Valid Loss: 0.017246 \t| Hole Loss: 0.018641 \t| Total Loss: 3.024225\n"
     ]
    },
    {
     "name": "stderr",
     "output_type": "stream",
     "text": [
      "Progress:  23%|██▎       | 22601/100000 [1:44:03<6:00:39,  3.58step/s]"
     ]
    },
    {
     "name": "stdout",
     "output_type": "stream",
     "text": [
      "[STEP: 22600] \t| Valid Loss: 0.014464 \t| Hole Loss: 0.016784 \t| Total Loss: 2.384008\n"
     ]
    },
    {
     "name": "stderr",
     "output_type": "stream",
     "text": [
      "Progress:  23%|██▎       | 22701/100000 [1:44:31<5:53:21,  3.65step/s]"
     ]
    },
    {
     "name": "stdout",
     "output_type": "stream",
     "text": [
      "[STEP: 22700] \t| Valid Loss: 0.013846 \t| Hole Loss: 0.021824 \t| Total Loss: 2.769822\n"
     ]
    },
    {
     "name": "stderr",
     "output_type": "stream",
     "text": [
      "Progress:  23%|██▎       | 22801/100000 [1:44:59<5:56:24,  3.61step/s]"
     ]
    },
    {
     "name": "stdout",
     "output_type": "stream",
     "text": [
      "[STEP: 22800] \t| Valid Loss: 0.012499 \t| Hole Loss: 0.025224 \t| Total Loss: 2.914358\n"
     ]
    },
    {
     "name": "stderr",
     "output_type": "stream",
     "text": [
      "Progress:  23%|██▎       | 22901/100000 [1:45:26<5:55:57,  3.61step/s]"
     ]
    },
    {
     "name": "stdout",
     "output_type": "stream",
     "text": [
      "[STEP: 22900] \t| Valid Loss: 0.015805 \t| Hole Loss: 0.019458 \t| Total Loss: 2.988700\n"
     ]
    },
    {
     "name": "stderr",
     "output_type": "stream",
     "text": [
      "Progress:  23%|██▎       | 23001/100000 [1:45:54<5:54:28,  3.62step/s]"
     ]
    },
    {
     "name": "stdout",
     "output_type": "stream",
     "text": [
      "[STEP: 23000] \t| Valid Loss: 0.017029 \t| Hole Loss: 0.022915 \t| Total Loss: 2.765474\n"
     ]
    },
    {
     "name": "stderr",
     "output_type": "stream",
     "text": [
      "Progress:  23%|██▎       | 23101/100000 [1:46:22<5:54:36,  3.61step/s]"
     ]
    },
    {
     "name": "stdout",
     "output_type": "stream",
     "text": [
      "[STEP: 23100] \t| Valid Loss: 0.013068 \t| Hole Loss: 0.015839 \t| Total Loss: 2.216729\n"
     ]
    },
    {
     "name": "stderr",
     "output_type": "stream",
     "text": [
      "Progress:  23%|██▎       | 23201/100000 [1:46:50<5:57:04,  3.58step/s]"
     ]
    },
    {
     "name": "stdout",
     "output_type": "stream",
     "text": [
      "[STEP: 23200] \t| Valid Loss: 0.015393 \t| Hole Loss: 0.019330 \t| Total Loss: 2.537942\n"
     ]
    },
    {
     "name": "stderr",
     "output_type": "stream",
     "text": [
      "Progress:  23%|██▎       | 23301/100000 [1:47:17<6:01:45,  3.53step/s]"
     ]
    },
    {
     "name": "stdout",
     "output_type": "stream",
     "text": [
      "[STEP: 23300] \t| Valid Loss: 0.017607 \t| Hole Loss: 0.023608 \t| Total Loss: 2.761395\n"
     ]
    },
    {
     "name": "stderr",
     "output_type": "stream",
     "text": [
      "Progress:  23%|██▎       | 23401/100000 [1:47:45<5:49:02,  3.66step/s]"
     ]
    },
    {
     "name": "stdout",
     "output_type": "stream",
     "text": [
      "[STEP: 23400] \t| Valid Loss: 0.015909 \t| Hole Loss: 0.024306 \t| Total Loss: 2.890053\n"
     ]
    },
    {
     "name": "stderr",
     "output_type": "stream",
     "text": [
      "Progress:  24%|██▎       | 23501/100000 [1:48:13<5:49:47,  3.64step/s]"
     ]
    },
    {
     "name": "stdout",
     "output_type": "stream",
     "text": [
      "[STEP: 23500] \t| Valid Loss: 0.016852 \t| Hole Loss: 0.020533 \t| Total Loss: 3.272022\n"
     ]
    },
    {
     "name": "stderr",
     "output_type": "stream",
     "text": [
      "Progress:  24%|██▎       | 23601/100000 [1:48:40<5:53:20,  3.60step/s]"
     ]
    },
    {
     "name": "stdout",
     "output_type": "stream",
     "text": [
      "[STEP: 23600] \t| Valid Loss: 0.013798 \t| Hole Loss: 0.016059 \t| Total Loss: 2.147244\n"
     ]
    },
    {
     "name": "stderr",
     "output_type": "stream",
     "text": [
      "Progress:  24%|██▎       | 23701/100000 [1:49:08<5:52:46,  3.60step/s]"
     ]
    },
    {
     "name": "stdout",
     "output_type": "stream",
     "text": [
      "[STEP: 23700] \t| Valid Loss: 0.016995 \t| Hole Loss: 0.021153 \t| Total Loss: 2.493314\n"
     ]
    },
    {
     "name": "stderr",
     "output_type": "stream",
     "text": [
      "Progress:  24%|██▍       | 23801/100000 [1:49:36<5:46:32,  3.66step/s]"
     ]
    },
    {
     "name": "stdout",
     "output_type": "stream",
     "text": [
      "[STEP: 23800] \t| Valid Loss: 0.013796 \t| Hole Loss: 0.020574 \t| Total Loss: 2.326312\n"
     ]
    },
    {
     "name": "stderr",
     "output_type": "stream",
     "text": [
      "Progress:  24%|██▍       | 23901/100000 [1:50:03<5:50:22,  3.62step/s]"
     ]
    },
    {
     "name": "stdout",
     "output_type": "stream",
     "text": [
      "[STEP: 23900] \t| Valid Loss: 0.014057 \t| Hole Loss: 0.016351 \t| Total Loss: 2.194305\n"
     ]
    },
    {
     "name": "stderr",
     "output_type": "stream",
     "text": [
      "Progress:  24%|██▍       | 24000/100000 [1:50:31<5:51:10,  3.61step/s]"
     ]
    },
    {
     "name": "stdout",
     "output_type": "stream",
     "text": [
      "[STEP: 24000] \t| Valid Loss: 0.014464 \t| Hole Loss: 0.020512 \t| Total Loss: 2.876587\n",
      "- Evaluation at [STEP: 24000] ...\n",
      "> Average PSNR: 22.685687, SSIM: 0.877273\n"
     ]
    },
    {
     "name": "stderr",
     "output_type": "stream",
     "text": [
      "Progress:  24%|██▍       | 24001/100000 [1:50:32<14:21:17,  1.47step/s]"
     ]
    },
    {
     "name": "stdout",
     "output_type": "stream",
     "text": [
      "> Total Loss: 3.401168\n"
     ]
    },
    {
     "name": "stderr",
     "output_type": "stream",
     "text": [
      "Progress:  24%|██▍       | 24101/100000 [1:51:00<5:46:52,  3.65step/s]"
     ]
    },
    {
     "name": "stdout",
     "output_type": "stream",
     "text": [
      "[STEP: 24100] \t| Valid Loss: 0.018664 \t| Hole Loss: 0.018931 \t| Total Loss: 2.780997\n"
     ]
    },
    {
     "name": "stderr",
     "output_type": "stream",
     "text": [
      "Progress:  24%|██▍       | 24201/100000 [1:51:27<5:50:20,  3.61step/s]"
     ]
    },
    {
     "name": "stdout",
     "output_type": "stream",
     "text": [
      "[STEP: 24200] \t| Valid Loss: 0.013671 \t| Hole Loss: 0.018500 \t| Total Loss: 2.312377\n"
     ]
    },
    {
     "name": "stderr",
     "output_type": "stream",
     "text": [
      "Progress:  24%|██▍       | 24301/100000 [1:51:55<5:48:13,  3.62step/s]"
     ]
    },
    {
     "name": "stdout",
     "output_type": "stream",
     "text": [
      "[STEP: 24300] \t| Valid Loss: 0.014697 \t| Hole Loss: 0.018152 \t| Total Loss: 2.586100\n"
     ]
    },
    {
     "name": "stderr",
     "output_type": "stream",
     "text": [
      "Progress:  24%|██▍       | 24401/100000 [1:52:23<5:45:37,  3.65step/s]"
     ]
    },
    {
     "name": "stdout",
     "output_type": "stream",
     "text": [
      "[STEP: 24400] \t| Valid Loss: 0.015884 \t| Hole Loss: 0.013934 \t| Total Loss: 2.292631\n"
     ]
    },
    {
     "name": "stderr",
     "output_type": "stream",
     "text": [
      "Progress:  25%|██▍       | 24501/100000 [1:52:50<5:43:15,  3.67step/s]"
     ]
    },
    {
     "name": "stdout",
     "output_type": "stream",
     "text": [
      "[STEP: 24500] \t| Valid Loss: 0.015595 \t| Hole Loss: 0.021740 \t| Total Loss: 2.661626\n"
     ]
    },
    {
     "name": "stderr",
     "output_type": "stream",
     "text": [
      "Progress:  25%|██▍       | 24601/100000 [1:53:18<5:51:26,  3.58step/s]"
     ]
    },
    {
     "name": "stdout",
     "output_type": "stream",
     "text": [
      "[STEP: 24600] \t| Valid Loss: 0.014764 \t| Hole Loss: 0.017367 \t| Total Loss: 2.281744\n"
     ]
    },
    {
     "name": "stderr",
     "output_type": "stream",
     "text": [
      "Progress:  25%|██▍       | 24701/100000 [1:53:46<5:47:05,  3.62step/s]"
     ]
    },
    {
     "name": "stdout",
     "output_type": "stream",
     "text": [
      "[STEP: 24700] \t| Valid Loss: 0.016585 \t| Hole Loss: 0.019961 \t| Total Loss: 2.547521\n"
     ]
    },
    {
     "name": "stderr",
     "output_type": "stream",
     "text": [
      "Progress:  25%|██▍       | 24801/100000 [1:54:13<5:42:47,  3.66step/s]"
     ]
    },
    {
     "name": "stdout",
     "output_type": "stream",
     "text": [
      "[STEP: 24800] \t| Valid Loss: 0.012287 \t| Hole Loss: 0.017655 \t| Total Loss: 2.620987\n"
     ]
    },
    {
     "name": "stderr",
     "output_type": "stream",
     "text": [
      "Progress:  25%|██▍       | 24901/100000 [1:54:41<5:48:10,  3.59step/s]"
     ]
    },
    {
     "name": "stdout",
     "output_type": "stream",
     "text": [
      "[STEP: 24900] \t| Valid Loss: 0.016978 \t| Hole Loss: 0.023198 \t| Total Loss: 3.340117\n"
     ]
    },
    {
     "name": "stderr",
     "output_type": "stream",
     "text": [
      "Progress:  25%|██▌       | 25001/100000 [1:55:09<5:42:36,  3.65step/s]"
     ]
    },
    {
     "name": "stdout",
     "output_type": "stream",
     "text": [
      "[STEP: 25000] \t| Valid Loss: 0.015815 \t| Hole Loss: 0.019591 \t| Total Loss: 2.371074\n"
     ]
    },
    {
     "name": "stderr",
     "output_type": "stream",
     "text": [
      "Progress:  25%|██▌       | 25101/100000 [1:55:36<5:42:20,  3.65step/s]"
     ]
    },
    {
     "name": "stdout",
     "output_type": "stream",
     "text": [
      "[STEP: 25100] \t| Valid Loss: 0.015966 \t| Hole Loss: 0.021697 \t| Total Loss: 2.596418\n"
     ]
    },
    {
     "name": "stderr",
     "output_type": "stream",
     "text": [
      "Progress:  25%|██▌       | 25201/100000 [1:56:04<5:42:08,  3.64step/s]"
     ]
    },
    {
     "name": "stdout",
     "output_type": "stream",
     "text": [
      "[STEP: 25200] \t| Valid Loss: 0.015832 \t| Hole Loss: 0.018188 \t| Total Loss: 2.753875\n"
     ]
    },
    {
     "name": "stderr",
     "output_type": "stream",
     "text": [
      "Progress:  25%|██▌       | 25301/100000 [1:56:31<5:43:04,  3.63step/s]"
     ]
    },
    {
     "name": "stdout",
     "output_type": "stream",
     "text": [
      "[STEP: 25300] \t| Valid Loss: 0.014514 \t| Hole Loss: 0.016293 \t| Total Loss: 2.237009\n"
     ]
    },
    {
     "name": "stderr",
     "output_type": "stream",
     "text": [
      "Progress:  25%|██▌       | 25401/100000 [1:56:59<5:43:16,  3.62step/s]"
     ]
    },
    {
     "name": "stdout",
     "output_type": "stream",
     "text": [
      "[STEP: 25400] \t| Valid Loss: 0.015854 \t| Hole Loss: 0.026227 \t| Total Loss: 2.760207\n"
     ]
    },
    {
     "name": "stderr",
     "output_type": "stream",
     "text": [
      "Progress:  26%|██▌       | 25501/100000 [1:57:27<5:49:18,  3.55step/s]"
     ]
    },
    {
     "name": "stdout",
     "output_type": "stream",
     "text": [
      "[STEP: 25500] \t| Valid Loss: 0.013020 \t| Hole Loss: 0.019030 \t| Total Loss: 2.503068\n"
     ]
    },
    {
     "name": "stderr",
     "output_type": "stream",
     "text": [
      "Progress:  26%|██▌       | 25601/100000 [1:57:54<5:38:52,  3.66step/s]"
     ]
    },
    {
     "name": "stdout",
     "output_type": "stream",
     "text": [
      "[STEP: 25600] \t| Valid Loss: 0.014754 \t| Hole Loss: 0.018903 \t| Total Loss: 2.336937\n"
     ]
    },
    {
     "name": "stderr",
     "output_type": "stream",
     "text": [
      "Progress:  26%|██▌       | 25701/100000 [1:58:22<5:47:45,  3.56step/s]"
     ]
    },
    {
     "name": "stdout",
     "output_type": "stream",
     "text": [
      "[STEP: 25700] \t| Valid Loss: 0.011629 \t| Hole Loss: 0.021226 \t| Total Loss: 2.487359\n"
     ]
    },
    {
     "name": "stderr",
     "output_type": "stream",
     "text": [
      "Progress:  26%|██▌       | 25801/100000 [1:58:50<5:40:49,  3.63step/s]"
     ]
    },
    {
     "name": "stdout",
     "output_type": "stream",
     "text": [
      "[STEP: 25800] \t| Valid Loss: 0.015747 \t| Hole Loss: 0.020943 \t| Total Loss: 3.264540\n"
     ]
    },
    {
     "name": "stderr",
     "output_type": "stream",
     "text": [
      "Progress:  26%|██▌       | 25901/100000 [1:59:17<5:41:00,  3.62step/s]"
     ]
    },
    {
     "name": "stdout",
     "output_type": "stream",
     "text": [
      "[STEP: 25900] \t| Valid Loss: 0.013834 \t| Hole Loss: 0.020198 \t| Total Loss: 2.473711\n"
     ]
    },
    {
     "name": "stderr",
     "output_type": "stream",
     "text": [
      "Progress:  26%|██▌       | 26000/100000 [1:59:45<5:37:47,  3.65step/s]"
     ]
    },
    {
     "name": "stdout",
     "output_type": "stream",
     "text": [
      "[STEP: 26000] \t| Valid Loss: 0.015893 \t| Hole Loss: 0.028432 \t| Total Loss: 4.079687\n",
      "- Evaluation at [STEP: 26000] ...\n",
      "> Average PSNR: 24.738856, SSIM: 0.887659\n",
      "> Total Loss: 2.926762\n"
     ]
    },
    {
     "name": "stderr",
     "output_type": "stream",
     "text": [
      "Progress:  26%|██▌       | 26001/100000 [1:59:48<20:48:38,  1.01s/step]"
     ]
    },
    {
     "name": "stdout",
     "output_type": "stream",
     "text": [
      "> New best model saved\n"
     ]
    },
    {
     "name": "stderr",
     "output_type": "stream",
     "text": [
      "Progress:  26%|██▌       | 26101/100000 [2:00:15<5:39:19,  3.63step/s]"
     ]
    },
    {
     "name": "stdout",
     "output_type": "stream",
     "text": [
      "[STEP: 26100] \t| Valid Loss: 0.014806 \t| Hole Loss: 0.021784 \t| Total Loss: 2.881726\n"
     ]
    },
    {
     "name": "stderr",
     "output_type": "stream",
     "text": [
      "Progress:  26%|██▌       | 26201/100000 [2:00:43<5:42:32,  3.59step/s]"
     ]
    },
    {
     "name": "stdout",
     "output_type": "stream",
     "text": [
      "[STEP: 26200] \t| Valid Loss: 0.014232 \t| Hole Loss: 0.018864 \t| Total Loss: 2.689383\n"
     ]
    },
    {
     "name": "stderr",
     "output_type": "stream",
     "text": [
      "Progress:  26%|██▋       | 26301/100000 [2:01:11<5:37:53,  3.64step/s]"
     ]
    },
    {
     "name": "stdout",
     "output_type": "stream",
     "text": [
      "[STEP: 26300] \t| Valid Loss: 0.012521 \t| Hole Loss: 0.017314 \t| Total Loss: 2.536465\n"
     ]
    },
    {
     "name": "stderr",
     "output_type": "stream",
     "text": [
      "Progress:  26%|██▋       | 26401/100000 [2:01:38<5:40:03,  3.61step/s]"
     ]
    },
    {
     "name": "stdout",
     "output_type": "stream",
     "text": [
      "[STEP: 26400] \t| Valid Loss: 0.012210 \t| Hole Loss: 0.014440 \t| Total Loss: 2.020435\n"
     ]
    },
    {
     "name": "stderr",
     "output_type": "stream",
     "text": [
      "Progress:  27%|██▋       | 26501/100000 [2:02:06<5:37:27,  3.63step/s]"
     ]
    },
    {
     "name": "stdout",
     "output_type": "stream",
     "text": [
      "[STEP: 26500] \t| Valid Loss: 0.013967 \t| Hole Loss: 0.024155 \t| Total Loss: 4.303588\n"
     ]
    },
    {
     "name": "stderr",
     "output_type": "stream",
     "text": [
      "Progress:  27%|██▋       | 26601/100000 [2:02:34<5:37:48,  3.62step/s]"
     ]
    },
    {
     "name": "stdout",
     "output_type": "stream",
     "text": [
      "[STEP: 26600] \t| Valid Loss: 0.018359 \t| Hole Loss: 0.028565 \t| Total Loss: 3.372813\n"
     ]
    },
    {
     "name": "stderr",
     "output_type": "stream",
     "text": [
      "Progress:  27%|██▋       | 26701/100000 [2:03:01<5:40:03,  3.59step/s]"
     ]
    },
    {
     "name": "stdout",
     "output_type": "stream",
     "text": [
      "[STEP: 26700] \t| Valid Loss: 0.014621 \t| Hole Loss: 0.020472 \t| Total Loss: 3.032140\n"
     ]
    },
    {
     "name": "stderr",
     "output_type": "stream",
     "text": [
      "Progress:  27%|██▋       | 26801/100000 [2:03:29<5:37:06,  3.62step/s]"
     ]
    },
    {
     "name": "stdout",
     "output_type": "stream",
     "text": [
      "[STEP: 26800] \t| Valid Loss: 0.014300 \t| Hole Loss: 0.016260 \t| Total Loss: 2.113770\n"
     ]
    },
    {
     "name": "stderr",
     "output_type": "stream",
     "text": [
      "Progress:  27%|██▋       | 26901/100000 [2:03:57<5:33:37,  3.65step/s]"
     ]
    },
    {
     "name": "stdout",
     "output_type": "stream",
     "text": [
      "[STEP: 26900] \t| Valid Loss: 0.014297 \t| Hole Loss: 0.022789 \t| Total Loss: 3.139458\n"
     ]
    },
    {
     "name": "stderr",
     "output_type": "stream",
     "text": [
      "Progress:  27%|██▋       | 27001/100000 [2:04:24<5:39:19,  3.59step/s]"
     ]
    },
    {
     "name": "stdout",
     "output_type": "stream",
     "text": [
      "[STEP: 27000] \t| Valid Loss: 0.015059 \t| Hole Loss: 0.020738 \t| Total Loss: 2.453520\n"
     ]
    },
    {
     "name": "stderr",
     "output_type": "stream",
     "text": [
      "Progress:  27%|██▋       | 27101/100000 [2:04:52<5:38:36,  3.59step/s]"
     ]
    },
    {
     "name": "stdout",
     "output_type": "stream",
     "text": [
      "[STEP: 27100] \t| Valid Loss: 0.011693 \t| Hole Loss: 0.014333 \t| Total Loss: 2.066472\n"
     ]
    },
    {
     "name": "stderr",
     "output_type": "stream",
     "text": [
      "Progress:  27%|██▋       | 27201/100000 [2:05:20<5:32:13,  3.65step/s]"
     ]
    },
    {
     "name": "stdout",
     "output_type": "stream",
     "text": [
      "[STEP: 27200] \t| Valid Loss: 0.014954 \t| Hole Loss: 0.023523 \t| Total Loss: 3.245747\n"
     ]
    },
    {
     "name": "stderr",
     "output_type": "stream",
     "text": [
      "Progress:  27%|██▋       | 27301/100000 [2:05:48<5:34:11,  3.63step/s]"
     ]
    },
    {
     "name": "stdout",
     "output_type": "stream",
     "text": [
      "[STEP: 27300] \t| Valid Loss: 0.013890 \t| Hole Loss: 0.020444 \t| Total Loss: 2.715180\n"
     ]
    },
    {
     "name": "stderr",
     "output_type": "stream",
     "text": [
      "Progress:  27%|██▋       | 27401/100000 [2:06:15<5:37:45,  3.58step/s]"
     ]
    },
    {
     "name": "stdout",
     "output_type": "stream",
     "text": [
      "[STEP: 27400] \t| Valid Loss: 0.014119 \t| Hole Loss: 0.025389 \t| Total Loss: 2.927325\n"
     ]
    },
    {
     "name": "stderr",
     "output_type": "stream",
     "text": [
      "Progress:  28%|██▊       | 27501/100000 [2:06:43<5:31:29,  3.65step/s]"
     ]
    },
    {
     "name": "stdout",
     "output_type": "stream",
     "text": [
      "[STEP: 27500] \t| Valid Loss: 0.012243 \t| Hole Loss: 0.018723 \t| Total Loss: 2.422796\n"
     ]
    },
    {
     "name": "stderr",
     "output_type": "stream",
     "text": [
      "Progress:  28%|██▊       | 27601/100000 [2:07:11<5:34:19,  3.61step/s]"
     ]
    },
    {
     "name": "stdout",
     "output_type": "stream",
     "text": [
      "[STEP: 27600] \t| Valid Loss: 0.012424 \t| Hole Loss: 0.012581 \t| Total Loss: 2.085485\n"
     ]
    },
    {
     "name": "stderr",
     "output_type": "stream",
     "text": [
      "Progress:  28%|██▊       | 27701/100000 [2:07:38<5:39:16,  3.55step/s]"
     ]
    },
    {
     "name": "stdout",
     "output_type": "stream",
     "text": [
      "[STEP: 27700] \t| Valid Loss: 0.012422 \t| Hole Loss: 0.021068 \t| Total Loss: 2.728023\n"
     ]
    },
    {
     "name": "stderr",
     "output_type": "stream",
     "text": [
      "Progress:  28%|██▊       | 27801/100000 [2:08:06<5:32:28,  3.62step/s]"
     ]
    },
    {
     "name": "stdout",
     "output_type": "stream",
     "text": [
      "[STEP: 27800] \t| Valid Loss: 0.011848 \t| Hole Loss: 0.016901 \t| Total Loss: 2.217447\n"
     ]
    },
    {
     "name": "stderr",
     "output_type": "stream",
     "text": [
      "Progress:  28%|██▊       | 27901/100000 [2:08:34<5:33:08,  3.61step/s]"
     ]
    },
    {
     "name": "stdout",
     "output_type": "stream",
     "text": [
      "[STEP: 27900] \t| Valid Loss: 0.011698 \t| Hole Loss: 0.019137 \t| Total Loss: 2.140907\n"
     ]
    },
    {
     "name": "stderr",
     "output_type": "stream",
     "text": [
      "Progress:  28%|██▊       | 28000/100000 [2:09:01<5:28:49,  3.65step/s]"
     ]
    },
    {
     "name": "stdout",
     "output_type": "stream",
     "text": [
      "[STEP: 28000] \t| Valid Loss: 0.017481 \t| Hole Loss: 0.016569 \t| Total Loss: 2.885959\n",
      "- Evaluation at [STEP: 28000] ...\n",
      "> Average PSNR: 23.127256, SSIM: 0.882319\n"
     ]
    },
    {
     "name": "stderr",
     "output_type": "stream",
     "text": [
      "Progress:  28%|██▊       | 28001/100000 [2:09:03<13:37:11,  1.47step/s]"
     ]
    },
    {
     "name": "stdout",
     "output_type": "stream",
     "text": [
      "> Total Loss: 3.086576\n"
     ]
    },
    {
     "name": "stderr",
     "output_type": "stream",
     "text": [
      "Progress:  28%|██▊       | 28101/100000 [2:09:30<5:31:48,  3.61step/s]"
     ]
    },
    {
     "name": "stdout",
     "output_type": "stream",
     "text": [
      "[STEP: 28100] \t| Valid Loss: 0.014304 \t| Hole Loss: 0.018207 \t| Total Loss: 2.318351\n"
     ]
    },
    {
     "name": "stderr",
     "output_type": "stream",
     "text": [
      "Progress:  28%|██▊       | 28201/100000 [2:09:58<5:28:05,  3.65step/s]"
     ]
    },
    {
     "name": "stdout",
     "output_type": "stream",
     "text": [
      "[STEP: 28200] \t| Valid Loss: 0.016834 \t| Hole Loss: 0.018452 \t| Total Loss: 2.579976\n"
     ]
    },
    {
     "name": "stderr",
     "output_type": "stream",
     "text": [
      "Progress:  28%|██▊       | 28301/100000 [2:10:26<5:30:36,  3.61step/s]"
     ]
    },
    {
     "name": "stdout",
     "output_type": "stream",
     "text": [
      "[STEP: 28300] \t| Valid Loss: 0.018503 \t| Hole Loss: 0.015151 \t| Total Loss: 2.297948\n"
     ]
    },
    {
     "name": "stderr",
     "output_type": "stream",
     "text": [
      "Progress:  28%|██▊       | 28401/100000 [2:10:54<5:31:13,  3.60step/s]"
     ]
    },
    {
     "name": "stdout",
     "output_type": "stream",
     "text": [
      "[STEP: 28400] \t| Valid Loss: 0.012315 \t| Hole Loss: 0.016469 \t| Total Loss: 2.082623\n"
     ]
    },
    {
     "name": "stderr",
     "output_type": "stream",
     "text": [
      "Progress:  29%|██▊       | 28501/100000 [2:11:21<5:30:25,  3.61step/s]"
     ]
    },
    {
     "name": "stdout",
     "output_type": "stream",
     "text": [
      "[STEP: 28500] \t| Valid Loss: 0.015529 \t| Hole Loss: 0.026889 \t| Total Loss: 3.702322\n"
     ]
    },
    {
     "name": "stderr",
     "output_type": "stream",
     "text": [
      "Progress:  29%|██▊       | 28601/100000 [2:11:49<5:27:27,  3.63step/s]"
     ]
    },
    {
     "name": "stdout",
     "output_type": "stream",
     "text": [
      "[STEP: 28600] \t| Valid Loss: 0.017765 \t| Hole Loss: 0.016883 \t| Total Loss: 2.370831\n"
     ]
    },
    {
     "name": "stderr",
     "output_type": "stream",
     "text": [
      "Progress:  29%|██▊       | 28701/100000 [2:12:16<5:28:44,  3.61step/s]"
     ]
    },
    {
     "name": "stdout",
     "output_type": "stream",
     "text": [
      "[STEP: 28700] \t| Valid Loss: 0.011931 \t| Hole Loss: 0.013884 \t| Total Loss: 1.851687\n"
     ]
    },
    {
     "name": "stderr",
     "output_type": "stream",
     "text": [
      "Progress:  29%|██▉       | 28801/100000 [2:12:44<5:29:28,  3.60step/s]"
     ]
    },
    {
     "name": "stdout",
     "output_type": "stream",
     "text": [
      "[STEP: 28800] \t| Valid Loss: 0.011704 \t| Hole Loss: 0.020539 \t| Total Loss: 2.286570\n"
     ]
    },
    {
     "name": "stderr",
     "output_type": "stream",
     "text": [
      "Progress:  29%|██▉       | 28901/100000 [2:13:12<5:29:01,  3.60step/s]"
     ]
    },
    {
     "name": "stdout",
     "output_type": "stream",
     "text": [
      "[STEP: 28900] \t| Valid Loss: 0.015740 \t| Hole Loss: 0.021684 \t| Total Loss: 2.563161\n"
     ]
    },
    {
     "name": "stderr",
     "output_type": "stream",
     "text": [
      "Progress:  29%|██▉       | 29001/100000 [2:13:39<5:29:39,  3.59step/s]"
     ]
    },
    {
     "name": "stdout",
     "output_type": "stream",
     "text": [
      "[STEP: 29000] \t| Valid Loss: 0.017099 \t| Hole Loss: 0.024579 \t| Total Loss: 2.880761\n"
     ]
    },
    {
     "name": "stderr",
     "output_type": "stream",
     "text": [
      "Progress:  29%|██▉       | 29101/100000 [2:14:07<5:24:48,  3.64step/s]"
     ]
    },
    {
     "name": "stdout",
     "output_type": "stream",
     "text": [
      "[STEP: 29100] \t| Valid Loss: 0.015512 \t| Hole Loss: 0.018001 \t| Total Loss: 2.473949\n"
     ]
    },
    {
     "name": "stderr",
     "output_type": "stream",
     "text": [
      "Progress:  29%|██▉       | 29201/100000 [2:14:34<5:27:07,  3.61step/s]"
     ]
    },
    {
     "name": "stdout",
     "output_type": "stream",
     "text": [
      "[STEP: 29200] \t| Valid Loss: 0.014331 \t| Hole Loss: 0.017731 \t| Total Loss: 2.611220\n"
     ]
    },
    {
     "name": "stderr",
     "output_type": "stream",
     "text": [
      "Progress:  29%|██▉       | 29301/100000 [2:15:02<5:26:37,  3.61step/s]"
     ]
    },
    {
     "name": "stdout",
     "output_type": "stream",
     "text": [
      "[STEP: 29300] \t| Valid Loss: 0.012632 \t| Hole Loss: 0.022195 \t| Total Loss: 2.154952\n"
     ]
    },
    {
     "name": "stderr",
     "output_type": "stream",
     "text": [
      "Progress:  29%|██▉       | 29401/100000 [2:15:30<5:22:29,  3.65step/s]"
     ]
    },
    {
     "name": "stdout",
     "output_type": "stream",
     "text": [
      "[STEP: 29400] \t| Valid Loss: 0.016325 \t| Hole Loss: 0.025308 \t| Total Loss: 3.502898\n"
     ]
    },
    {
     "name": "stderr",
     "output_type": "stream",
     "text": [
      "Progress:  30%|██▉       | 29501/100000 [2:15:57<5:31:28,  3.54step/s]"
     ]
    },
    {
     "name": "stdout",
     "output_type": "stream",
     "text": [
      "[STEP: 29500] \t| Valid Loss: 0.015734 \t| Hole Loss: 0.021427 \t| Total Loss: 3.275001\n"
     ]
    },
    {
     "name": "stderr",
     "output_type": "stream",
     "text": [
      "Progress:  30%|██▉       | 29572/100000 [2:16:19<5:24:39,  3.62step/s]\n"
     ]
    }
   ],
   "source": [
    "img_tf  = transforms.Compose([transforms.Resize((256, 256)),\n",
    "                              transforms.RandomHorizontalFlip(),\n",
    "                              transforms.RandomRotation(10),\n",
    "                              transforms.ColorJitter(brightness=0.2, contrast=0.2, saturation=0.2, hue=0.1),\n",
    "                              transforms.ToTensor()])\n",
    "mask_tf = transforms.Compose([transforms.Resize((256, 256)), transforms.ToTensor()])\n",
    "\n",
    "maskGenerator = MaskGenerator(256, 256)\n",
    "\n",
    "trainer = Trainer(\n",
    "    step   = 0,\n",
    "    config = config,\n",
    "    device = device,\n",
    "    model  = model,\n",
    "    \n",
    "    dataset_train = InitDataset(config.data_root, img_tf, mask_tf, data=\"train\", maskGenerator=maskGenerator),\n",
    "    dataset_val   = InitDataset(config.data_root, img_tf, mask_tf, data=\"val\"  , maskGenerator=maskGenerator),\n",
    "    \n",
    "    criterion = InpaintingLoss(VGG16FeatureExtractor(), tv_loss=config.tv_loss).to(device),\n",
    "    \n",
    "    optimizer = torch.optim.Adam(\n",
    "        filter(lambda p: p.requires_grad, model.parameters()),\n",
    "        lr           = config.finetune_lr if config.finetune else config.initial_lr,\n",
    "        weight_decay = config.weight_decay\n",
    "    )\n",
    ")\n",
    "trainer.iterate()"
   ]
  },
  {
   "cell_type": "markdown",
   "id": "5473c316",
   "metadata": {
    "papermill": {
     "duration": 1.395871,
     "end_time": "2024-12-01T07:09:15.206521",
     "exception": false,
     "start_time": "2024-12-01T07:09:13.810650",
     "status": "completed"
    },
    "tags": []
   },
   "source": [
    "# **VI - Testing**\n",
    "---"
   ]
  },
  {
   "cell_type": "code",
   "execution_count": null,
   "id": "f5f479ee",
   "metadata": {
    "execution": {
     "iopub.execute_input": "2024-12-01T07:09:18.015141Z",
     "iopub.status.busy": "2024-12-01T07:09:18.014733Z",
     "iopub.status.idle": "2024-12-01T07:09:18.019160Z",
     "shell.execute_reply": "2024-12-01T07:09:18.018350Z"
    },
    "papermill": {
     "duration": 1.400674,
     "end_time": "2024-12-01T07:09:18.020826",
     "exception": false,
     "start_time": "2024-12-01T07:09:16.620152",
     "status": "completed"
    },
    "tags": []
   },
   "outputs": [],
   "source": [
    "# def predict(model, image, mask, device):\n",
    "#     # Đưa dữ liệu lên thiết bị\n",
    "#     image, mask = image.to(device), mask.to(device)\n",
    "\n",
    "#     with torch.no_grad():  # Không cần tính gradient khi dự đoán\n",
    "#         output, _ = model(image.unsqueeze(0), mask.unsqueeze(0))  # Thêm batch dimension\n",
    "#         output = output.squeeze(0)  # Loại bỏ batch dimension\n",
    "\n",
    "#     return output\n",
    "\n",
    "# # Ví dụ sử dụng\n",
    "# image = transforms.ToTensor()(Image.open(\"/path/to/input_image.jpg\"))\n",
    "# mask = transforms.ToTensor()(Image.open(\"/path/to/mask_image.jpg\"))\n",
    "\n",
    "# reconstructed_image = predict(model, image, mask, device)\n",
    "\n",
    "# # Hiển thị ảnh kết quả\n",
    "# reconstructed_image_pil = to_pil_image(reconstructed_image.cpu())\n",
    "# reconstructed_image_pil.show()"
   ]
  }
 ],
 "metadata": {
  "kaggle": {
   "accelerator": "nvidiaTeslaT4",
   "dataSources": [
    {
     "datasetId": 6153181,
     "sourceId": 9997292,
     "sourceType": "datasetVersion"
    },
    {
     "datasetId": 6201573,
     "sourceId": 10063195,
     "sourceType": "datasetVersion"
    },
    {
     "datasetId": 6201646,
     "sourceId": 10063289,
     "sourceType": "datasetVersion"
    },
    {
     "modelId": 171917,
     "modelInstanceId": 149402,
     "sourceId": 183935,
     "sourceType": "modelInstanceVersion"
    }
   ],
   "dockerImageVersionId": 30787,
   "isGpuEnabled": true,
   "isInternetEnabled": true,
   "language": "python",
   "sourceType": "notebook"
  },
  "kernelspec": {
   "display_name": "Python 3",
   "language": "python",
   "name": "python3"
  },
  "language_info": {
   "codemirror_mode": {
    "name": "ipython",
    "version": 3
   },
   "file_extension": ".py",
   "mimetype": "text/x-python",
   "name": "python",
   "nbconvert_exporter": "python",
   "pygments_lexer": "ipython3",
   "version": "3.10.14"
  },
  "papermill": {
   "default_parameters": {},
   "duration": 8218.516263,
   "end_time": "2024-12-01T07:09:22.231255",
   "environment_variables": {},
   "exception": null,
   "input_path": "__notebook__.ipynb",
   "output_path": "__notebook__.ipynb",
   "parameters": {},
   "start_time": "2024-12-01T04:52:23.714992",
   "version": "2.6.0"
  }
 },
 "nbformat": 4,
 "nbformat_minor": 5
}
